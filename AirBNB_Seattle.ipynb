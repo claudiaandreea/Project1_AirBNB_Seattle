{
 "cells": [
  {
   "cell_type": "markdown",
   "id": "2150c3e1",
   "metadata": {},
   "source": [
    "### Data Science Nanodegree - A Data Science Blog Post \n",
    "\n",
    "I have started this project as part of the Data Science Nanodegree program offered by Udacity. \n",
    "\n",
    "I have choosen to use the Seattle Airbnb homes data as a start point for my research as to see what are the best criteria when choosing a perfect accommodation and where should a host focus on. The dataset was download from the Kaggle platform and contains 3818 home listings from Seattle, United States. \n",
    "\n",
    "In order to complete this project I have used the CRISP-DM method."
   ]
  },
  {
   "cell_type": "markdown",
   "id": "4154aaef",
   "metadata": {},
   "source": [
    "### 1. Business Understanding\n",
    "The data used for this assignment was download from the Kaggle platform, offering insights on the Seattle AirBNB homes data. The main purpose of this project is to offer a high-level overview over the accommodation offer in Seattle by answering the following questions:\n",
    "\n",
    "\n",
    "##### Questions\n",
    "1. How can we describe the Seattle accommodation offer?\n",
    "2. Can we predict the price established for an accommodation based on the facilities listed by the host?\n",
    "3. What factors seem to have a strong impact in receiving a Superhost badge?"
   ]
  },
  {
   "cell_type": "markdown",
   "id": "10c779c2",
   "metadata": {},
   "source": [
    "### 2. Data understanding\n",
    "\n",
    "* Data import \n",
    "* Descriptive analysis \n",
    "* Quantitative variables study \n",
    "* Categorical variables study\n",
    "* Missing data "
   ]
  },
  {
   "cell_type": "markdown",
   "id": "1dfb9411",
   "metadata": {},
   "source": [
    "Importing the necessary libraries."
   ]
  },
  {
   "cell_type": "code",
   "execution_count": 438,
   "id": "53be1c13",
   "metadata": {},
   "outputs": [],
   "source": [
    "import numpy as np\n",
    "import pandas as pd \n",
    "import matplotlib.pyplot as plt\n",
    "from sklearn.linear_model import LinearRegression\n",
    "from sklearn.model_selection import train_test_split\n",
    "from sklearn.metrics import r2_score, mean_squared_error\n",
    "from sklearn.tree import DecisionTreeClassifier\n",
    "from sklearn.metrics import accuracy_score\n",
    "import seaborn as sns\n",
    "%matplotlib inline"
   ]
  },
  {
   "cell_type": "markdown",
   "id": "ef7eba36",
   "metadata": {},
   "source": [
    "We will just start by importing the data."
   ]
  },
  {
   "cell_type": "code",
   "execution_count": 439,
   "id": "7f805d69",
   "metadata": {},
   "outputs": [
    {
     "data": {
      "text/html": [
       "<div>\n",
       "<style scoped>\n",
       "    .dataframe tbody tr th:only-of-type {\n",
       "        vertical-align: middle;\n",
       "    }\n",
       "\n",
       "    .dataframe tbody tr th {\n",
       "        vertical-align: top;\n",
       "    }\n",
       "\n",
       "    .dataframe thead th {\n",
       "        text-align: right;\n",
       "    }\n",
       "</style>\n",
       "<table border=\"1\" class=\"dataframe\">\n",
       "  <thead>\n",
       "    <tr style=\"text-align: right;\">\n",
       "      <th></th>\n",
       "      <th>id</th>\n",
       "      <th>listing_url</th>\n",
       "      <th>scrape_id</th>\n",
       "      <th>last_scraped</th>\n",
       "      <th>name</th>\n",
       "      <th>summary</th>\n",
       "      <th>space</th>\n",
       "      <th>description</th>\n",
       "      <th>experiences_offered</th>\n",
       "      <th>neighborhood_overview</th>\n",
       "      <th>...</th>\n",
       "      <th>review_scores_value</th>\n",
       "      <th>requires_license</th>\n",
       "      <th>license</th>\n",
       "      <th>jurisdiction_names</th>\n",
       "      <th>instant_bookable</th>\n",
       "      <th>cancellation_policy</th>\n",
       "      <th>require_guest_profile_picture</th>\n",
       "      <th>require_guest_phone_verification</th>\n",
       "      <th>calculated_host_listings_count</th>\n",
       "      <th>reviews_per_month</th>\n",
       "    </tr>\n",
       "  </thead>\n",
       "  <tbody>\n",
       "    <tr>\n",
       "      <th>0</th>\n",
       "      <td>241032</td>\n",
       "      <td>https://www.airbnb.com/rooms/241032</td>\n",
       "      <td>20160104002432</td>\n",
       "      <td>2016-01-04</td>\n",
       "      <td>Stylish Queen Anne Apartment</td>\n",
       "      <td>NaN</td>\n",
       "      <td>Make your self at home in this charming one-be...</td>\n",
       "      <td>Make your self at home in this charming one-be...</td>\n",
       "      <td>none</td>\n",
       "      <td>NaN</td>\n",
       "      <td>...</td>\n",
       "      <td>10.0</td>\n",
       "      <td>f</td>\n",
       "      <td>NaN</td>\n",
       "      <td>WASHINGTON</td>\n",
       "      <td>f</td>\n",
       "      <td>moderate</td>\n",
       "      <td>f</td>\n",
       "      <td>f</td>\n",
       "      <td>2</td>\n",
       "      <td>4.07</td>\n",
       "    </tr>\n",
       "    <tr>\n",
       "      <th>1</th>\n",
       "      <td>953595</td>\n",
       "      <td>https://www.airbnb.com/rooms/953595</td>\n",
       "      <td>20160104002432</td>\n",
       "      <td>2016-01-04</td>\n",
       "      <td>Bright &amp; Airy Queen Anne Apartment</td>\n",
       "      <td>Chemically sensitive? We've removed the irrita...</td>\n",
       "      <td>Beautiful, hypoallergenic apartment in an extr...</td>\n",
       "      <td>Chemically sensitive? We've removed the irrita...</td>\n",
       "      <td>none</td>\n",
       "      <td>Queen Anne is a wonderful, truly functional vi...</td>\n",
       "      <td>...</td>\n",
       "      <td>10.0</td>\n",
       "      <td>f</td>\n",
       "      <td>NaN</td>\n",
       "      <td>WASHINGTON</td>\n",
       "      <td>f</td>\n",
       "      <td>strict</td>\n",
       "      <td>t</td>\n",
       "      <td>t</td>\n",
       "      <td>6</td>\n",
       "      <td>1.48</td>\n",
       "    </tr>\n",
       "  </tbody>\n",
       "</table>\n",
       "<p>2 rows × 92 columns</p>\n",
       "</div>"
      ],
      "text/plain": [
       "       id                          listing_url       scrape_id last_scraped  \\\n",
       "0  241032  https://www.airbnb.com/rooms/241032  20160104002432   2016-01-04   \n",
       "1  953595  https://www.airbnb.com/rooms/953595  20160104002432   2016-01-04   \n",
       "\n",
       "                                 name  \\\n",
       "0        Stylish Queen Anne Apartment   \n",
       "1  Bright & Airy Queen Anne Apartment   \n",
       "\n",
       "                                             summary  \\\n",
       "0                                                NaN   \n",
       "1  Chemically sensitive? We've removed the irrita...   \n",
       "\n",
       "                                               space  \\\n",
       "0  Make your self at home in this charming one-be...   \n",
       "1  Beautiful, hypoallergenic apartment in an extr...   \n",
       "\n",
       "                                         description experiences_offered  \\\n",
       "0  Make your self at home in this charming one-be...                none   \n",
       "1  Chemically sensitive? We've removed the irrita...                none   \n",
       "\n",
       "                               neighborhood_overview  ... review_scores_value  \\\n",
       "0                                                NaN  ...                10.0   \n",
       "1  Queen Anne is a wonderful, truly functional vi...  ...                10.0   \n",
       "\n",
       "  requires_license license jurisdiction_names instant_bookable  \\\n",
       "0                f     NaN         WASHINGTON                f   \n",
       "1                f     NaN         WASHINGTON                f   \n",
       "\n",
       "  cancellation_policy  require_guest_profile_picture  \\\n",
       "0            moderate                              f   \n",
       "1              strict                              t   \n",
       "\n",
       "  require_guest_phone_verification calculated_host_listings_count  \\\n",
       "0                                f                              2   \n",
       "1                                t                              6   \n",
       "\n",
       "  reviews_per_month  \n",
       "0              4.07  \n",
       "1              1.48  \n",
       "\n",
       "[2 rows x 92 columns]"
      ]
     },
     "execution_count": 439,
     "metadata": {},
     "output_type": "execute_result"
    }
   ],
   "source": [
    "df = pd.read_csv('./Database/listings.csv')\n",
    "df.head(2)"
   ]
  },
  {
   "cell_type": "markdown",
   "id": "e9b4a6cb",
   "metadata": {},
   "source": [
    "Checking to see the number of rows and columns."
   ]
  },
  {
   "cell_type": "code",
   "execution_count": 440,
   "id": "65b181d7",
   "metadata": {},
   "outputs": [
    {
     "name": "stdout",
     "output_type": "stream",
     "text": [
      "The Seattle database has 3818 rows and 92 columns.\n"
     ]
    }
   ],
   "source": [
    "def df_shape(df):\n",
    "    rows_no = df.shape[0] \n",
    "    columns_no = df.shape[1] \n",
    "    print('The Seattle database has',rows_no, 'rows and', columns_no, 'columns.' )\n",
    "\n",
    "df_shape(df)"
   ]
  },
  {
   "cell_type": "code",
   "execution_count": 441,
   "id": "e6b920c5",
   "metadata": {},
   "outputs": [
    {
     "data": {
      "text/html": [
       "<div>\n",
       "<style scoped>\n",
       "    .dataframe tbody tr th:only-of-type {\n",
       "        vertical-align: middle;\n",
       "    }\n",
       "\n",
       "    .dataframe tbody tr th {\n",
       "        vertical-align: top;\n",
       "    }\n",
       "\n",
       "    .dataframe thead th {\n",
       "        text-align: right;\n",
       "    }\n",
       "</style>\n",
       "<table border=\"1\" class=\"dataframe\">\n",
       "  <thead>\n",
       "    <tr style=\"text-align: right;\">\n",
       "      <th></th>\n",
       "      <th>id</th>\n",
       "      <th>scrape_id</th>\n",
       "      <th>host_id</th>\n",
       "      <th>host_listings_count</th>\n",
       "      <th>host_total_listings_count</th>\n",
       "      <th>latitude</th>\n",
       "      <th>longitude</th>\n",
       "      <th>accommodates</th>\n",
       "      <th>bathrooms</th>\n",
       "      <th>bedrooms</th>\n",
       "      <th>...</th>\n",
       "      <th>review_scores_rating</th>\n",
       "      <th>review_scores_accuracy</th>\n",
       "      <th>review_scores_cleanliness</th>\n",
       "      <th>review_scores_checkin</th>\n",
       "      <th>review_scores_communication</th>\n",
       "      <th>review_scores_location</th>\n",
       "      <th>review_scores_value</th>\n",
       "      <th>license</th>\n",
       "      <th>calculated_host_listings_count</th>\n",
       "      <th>reviews_per_month</th>\n",
       "    </tr>\n",
       "  </thead>\n",
       "  <tbody>\n",
       "    <tr>\n",
       "      <th>count</th>\n",
       "      <td>3.818000e+03</td>\n",
       "      <td>3.818000e+03</td>\n",
       "      <td>3.818000e+03</td>\n",
       "      <td>3816.000000</td>\n",
       "      <td>3816.000000</td>\n",
       "      <td>3818.000000</td>\n",
       "      <td>3818.000000</td>\n",
       "      <td>3818.000000</td>\n",
       "      <td>3802.000000</td>\n",
       "      <td>3812.000000</td>\n",
       "      <td>...</td>\n",
       "      <td>3171.000000</td>\n",
       "      <td>3160.000000</td>\n",
       "      <td>3165.000000</td>\n",
       "      <td>3160.000000</td>\n",
       "      <td>3167.000000</td>\n",
       "      <td>3163.000000</td>\n",
       "      <td>3162.000000</td>\n",
       "      <td>0.0</td>\n",
       "      <td>3818.000000</td>\n",
       "      <td>3191.000000</td>\n",
       "    </tr>\n",
       "    <tr>\n",
       "      <th>mean</th>\n",
       "      <td>5.550111e+06</td>\n",
       "      <td>2.016010e+13</td>\n",
       "      <td>1.578556e+07</td>\n",
       "      <td>7.157757</td>\n",
       "      <td>7.157757</td>\n",
       "      <td>47.628961</td>\n",
       "      <td>-122.333103</td>\n",
       "      <td>3.349398</td>\n",
       "      <td>1.259469</td>\n",
       "      <td>1.307712</td>\n",
       "      <td>...</td>\n",
       "      <td>94.539262</td>\n",
       "      <td>9.636392</td>\n",
       "      <td>9.556398</td>\n",
       "      <td>9.786709</td>\n",
       "      <td>9.809599</td>\n",
       "      <td>9.608916</td>\n",
       "      <td>9.452245</td>\n",
       "      <td>NaN</td>\n",
       "      <td>2.946307</td>\n",
       "      <td>2.078919</td>\n",
       "    </tr>\n",
       "    <tr>\n",
       "      <th>std</th>\n",
       "      <td>2.962660e+06</td>\n",
       "      <td>0.000000e+00</td>\n",
       "      <td>1.458382e+07</td>\n",
       "      <td>28.628149</td>\n",
       "      <td>28.628149</td>\n",
       "      <td>0.043052</td>\n",
       "      <td>0.031745</td>\n",
       "      <td>1.977599</td>\n",
       "      <td>0.590369</td>\n",
       "      <td>0.883395</td>\n",
       "      <td>...</td>\n",
       "      <td>6.606083</td>\n",
       "      <td>0.698031</td>\n",
       "      <td>0.797274</td>\n",
       "      <td>0.595499</td>\n",
       "      <td>0.568211</td>\n",
       "      <td>0.629053</td>\n",
       "      <td>0.750259</td>\n",
       "      <td>NaN</td>\n",
       "      <td>5.893029</td>\n",
       "      <td>1.822348</td>\n",
       "    </tr>\n",
       "    <tr>\n",
       "      <th>min</th>\n",
       "      <td>3.335000e+03</td>\n",
       "      <td>2.016010e+13</td>\n",
       "      <td>4.193000e+03</td>\n",
       "      <td>1.000000</td>\n",
       "      <td>1.000000</td>\n",
       "      <td>47.505088</td>\n",
       "      <td>-122.417219</td>\n",
       "      <td>1.000000</td>\n",
       "      <td>0.000000</td>\n",
       "      <td>0.000000</td>\n",
       "      <td>...</td>\n",
       "      <td>20.000000</td>\n",
       "      <td>2.000000</td>\n",
       "      <td>3.000000</td>\n",
       "      <td>2.000000</td>\n",
       "      <td>2.000000</td>\n",
       "      <td>4.000000</td>\n",
       "      <td>2.000000</td>\n",
       "      <td>NaN</td>\n",
       "      <td>1.000000</td>\n",
       "      <td>0.020000</td>\n",
       "    </tr>\n",
       "    <tr>\n",
       "      <th>25%</th>\n",
       "      <td>3.258256e+06</td>\n",
       "      <td>2.016010e+13</td>\n",
       "      <td>3.275204e+06</td>\n",
       "      <td>1.000000</td>\n",
       "      <td>1.000000</td>\n",
       "      <td>47.609418</td>\n",
       "      <td>-122.354320</td>\n",
       "      <td>2.000000</td>\n",
       "      <td>1.000000</td>\n",
       "      <td>1.000000</td>\n",
       "      <td>...</td>\n",
       "      <td>93.000000</td>\n",
       "      <td>9.000000</td>\n",
       "      <td>9.000000</td>\n",
       "      <td>10.000000</td>\n",
       "      <td>10.000000</td>\n",
       "      <td>9.000000</td>\n",
       "      <td>9.000000</td>\n",
       "      <td>NaN</td>\n",
       "      <td>1.000000</td>\n",
       "      <td>0.695000</td>\n",
       "    </tr>\n",
       "    <tr>\n",
       "      <th>50%</th>\n",
       "      <td>6.118244e+06</td>\n",
       "      <td>2.016010e+13</td>\n",
       "      <td>1.055814e+07</td>\n",
       "      <td>1.000000</td>\n",
       "      <td>1.000000</td>\n",
       "      <td>47.623601</td>\n",
       "      <td>-122.328874</td>\n",
       "      <td>3.000000</td>\n",
       "      <td>1.000000</td>\n",
       "      <td>1.000000</td>\n",
       "      <td>...</td>\n",
       "      <td>96.000000</td>\n",
       "      <td>10.000000</td>\n",
       "      <td>10.000000</td>\n",
       "      <td>10.000000</td>\n",
       "      <td>10.000000</td>\n",
       "      <td>10.000000</td>\n",
       "      <td>10.000000</td>\n",
       "      <td>NaN</td>\n",
       "      <td>1.000000</td>\n",
       "      <td>1.540000</td>\n",
       "    </tr>\n",
       "    <tr>\n",
       "      <th>75%</th>\n",
       "      <td>8.035127e+06</td>\n",
       "      <td>2.016010e+13</td>\n",
       "      <td>2.590309e+07</td>\n",
       "      <td>3.000000</td>\n",
       "      <td>3.000000</td>\n",
       "      <td>47.662694</td>\n",
       "      <td>-122.310800</td>\n",
       "      <td>4.000000</td>\n",
       "      <td>1.000000</td>\n",
       "      <td>2.000000</td>\n",
       "      <td>...</td>\n",
       "      <td>99.000000</td>\n",
       "      <td>10.000000</td>\n",
       "      <td>10.000000</td>\n",
       "      <td>10.000000</td>\n",
       "      <td>10.000000</td>\n",
       "      <td>10.000000</td>\n",
       "      <td>10.000000</td>\n",
       "      <td>NaN</td>\n",
       "      <td>2.000000</td>\n",
       "      <td>3.000000</td>\n",
       "    </tr>\n",
       "    <tr>\n",
       "      <th>max</th>\n",
       "      <td>1.034016e+07</td>\n",
       "      <td>2.016010e+13</td>\n",
       "      <td>5.320861e+07</td>\n",
       "      <td>502.000000</td>\n",
       "      <td>502.000000</td>\n",
       "      <td>47.733358</td>\n",
       "      <td>-122.240607</td>\n",
       "      <td>16.000000</td>\n",
       "      <td>8.000000</td>\n",
       "      <td>7.000000</td>\n",
       "      <td>...</td>\n",
       "      <td>100.000000</td>\n",
       "      <td>10.000000</td>\n",
       "      <td>10.000000</td>\n",
       "      <td>10.000000</td>\n",
       "      <td>10.000000</td>\n",
       "      <td>10.000000</td>\n",
       "      <td>10.000000</td>\n",
       "      <td>NaN</td>\n",
       "      <td>37.000000</td>\n",
       "      <td>12.150000</td>\n",
       "    </tr>\n",
       "  </tbody>\n",
       "</table>\n",
       "<p>8 rows × 30 columns</p>\n",
       "</div>"
      ],
      "text/plain": [
       "                 id     scrape_id       host_id  host_listings_count  \\\n",
       "count  3.818000e+03  3.818000e+03  3.818000e+03          3816.000000   \n",
       "mean   5.550111e+06  2.016010e+13  1.578556e+07             7.157757   \n",
       "std    2.962660e+06  0.000000e+00  1.458382e+07            28.628149   \n",
       "min    3.335000e+03  2.016010e+13  4.193000e+03             1.000000   \n",
       "25%    3.258256e+06  2.016010e+13  3.275204e+06             1.000000   \n",
       "50%    6.118244e+06  2.016010e+13  1.055814e+07             1.000000   \n",
       "75%    8.035127e+06  2.016010e+13  2.590309e+07             3.000000   \n",
       "max    1.034016e+07  2.016010e+13  5.320861e+07           502.000000   \n",
       "\n",
       "       host_total_listings_count     latitude    longitude  accommodates  \\\n",
       "count                3816.000000  3818.000000  3818.000000   3818.000000   \n",
       "mean                    7.157757    47.628961  -122.333103      3.349398   \n",
       "std                    28.628149     0.043052     0.031745      1.977599   \n",
       "min                     1.000000    47.505088  -122.417219      1.000000   \n",
       "25%                     1.000000    47.609418  -122.354320      2.000000   \n",
       "50%                     1.000000    47.623601  -122.328874      3.000000   \n",
       "75%                     3.000000    47.662694  -122.310800      4.000000   \n",
       "max                   502.000000    47.733358  -122.240607     16.000000   \n",
       "\n",
       "         bathrooms     bedrooms  ...  review_scores_rating  \\\n",
       "count  3802.000000  3812.000000  ...           3171.000000   \n",
       "mean      1.259469     1.307712  ...             94.539262   \n",
       "std       0.590369     0.883395  ...              6.606083   \n",
       "min       0.000000     0.000000  ...             20.000000   \n",
       "25%       1.000000     1.000000  ...             93.000000   \n",
       "50%       1.000000     1.000000  ...             96.000000   \n",
       "75%       1.000000     2.000000  ...             99.000000   \n",
       "max       8.000000     7.000000  ...            100.000000   \n",
       "\n",
       "       review_scores_accuracy  review_scores_cleanliness  \\\n",
       "count             3160.000000                3165.000000   \n",
       "mean                 9.636392                   9.556398   \n",
       "std                  0.698031                   0.797274   \n",
       "min                  2.000000                   3.000000   \n",
       "25%                  9.000000                   9.000000   \n",
       "50%                 10.000000                  10.000000   \n",
       "75%                 10.000000                  10.000000   \n",
       "max                 10.000000                  10.000000   \n",
       "\n",
       "       review_scores_checkin  review_scores_communication  \\\n",
       "count            3160.000000                  3167.000000   \n",
       "mean                9.786709                     9.809599   \n",
       "std                 0.595499                     0.568211   \n",
       "min                 2.000000                     2.000000   \n",
       "25%                10.000000                    10.000000   \n",
       "50%                10.000000                    10.000000   \n",
       "75%                10.000000                    10.000000   \n",
       "max                10.000000                    10.000000   \n",
       "\n",
       "       review_scores_location  review_scores_value  license  \\\n",
       "count             3163.000000          3162.000000      0.0   \n",
       "mean                 9.608916             9.452245      NaN   \n",
       "std                  0.629053             0.750259      NaN   \n",
       "min                  4.000000             2.000000      NaN   \n",
       "25%                  9.000000             9.000000      NaN   \n",
       "50%                 10.000000            10.000000      NaN   \n",
       "75%                 10.000000            10.000000      NaN   \n",
       "max                 10.000000            10.000000      NaN   \n",
       "\n",
       "       calculated_host_listings_count  reviews_per_month  \n",
       "count                     3818.000000        3191.000000  \n",
       "mean                         2.946307           2.078919  \n",
       "std                          5.893029           1.822348  \n",
       "min                          1.000000           0.020000  \n",
       "25%                          1.000000           0.695000  \n",
       "50%                          1.000000           1.540000  \n",
       "75%                          2.000000           3.000000  \n",
       "max                         37.000000          12.150000  \n",
       "\n",
       "[8 rows x 30 columns]"
      ]
     },
     "execution_count": 441,
     "metadata": {},
     "output_type": "execute_result"
    }
   ],
   "source": [
    "df.describe()"
   ]
  },
  {
   "cell_type": "markdown",
   "id": "df7cd2db",
   "metadata": {},
   "source": [
    "There are 3816 accomodation listings with a average review score of 94.5. "
   ]
  },
  {
   "cell_type": "markdown",
   "id": "b806ae55",
   "metadata": {},
   "source": [
    "We then check for any missing data."
   ]
  },
  {
   "cell_type": "code",
   "execution_count": 442,
   "id": "758358bb",
   "metadata": {},
   "outputs": [
    {
     "name": "stdout",
     "output_type": "stream",
     "text": [
      "id                                    0\n",
      "listing_url                           0\n",
      "scrape_id                             0\n",
      "last_scraped                          0\n",
      "name                                  0\n",
      "                                   ... \n",
      "cancellation_policy                   0\n",
      "require_guest_profile_picture         0\n",
      "require_guest_phone_verification      0\n",
      "calculated_host_listings_count        0\n",
      "reviews_per_month                   627\n",
      "Length: 92, dtype: int64\n"
     ]
    }
   ],
   "source": [
    "# display the missing data volume for each variable\n",
    "print(df.isnull().sum())"
   ]
  },
  {
   "cell_type": "code",
   "execution_count": 443,
   "id": "6ab681ce",
   "metadata": {},
   "outputs": [
    {
     "data": {
      "text/plain": [
       "Index(['summary', 'space', 'neighborhood_overview', 'notes', 'transit',\n",
       "       'thumbnail_url', 'medium_url', 'xl_picture_url', 'host_name',\n",
       "       'host_since', 'host_location', 'host_about', 'host_response_time',\n",
       "       'host_response_rate', 'host_acceptance_rate', 'host_is_superhost',\n",
       "       'host_thumbnail_url', 'host_picture_url', 'host_neighbourhood',\n",
       "       'host_listings_count', 'host_total_listings_count',\n",
       "       'host_has_profile_pic', 'host_identity_verified', 'neighbourhood',\n",
       "       'zipcode', 'property_type', 'bathrooms', 'bedrooms', 'beds',\n",
       "       'square_feet', 'weekly_price', 'monthly_price', 'security_deposit',\n",
       "       'cleaning_fee', 'first_review', 'last_review', 'review_scores_rating',\n",
       "       'review_scores_accuracy', 'review_scores_cleanliness',\n",
       "       'review_scores_checkin', 'review_scores_communication',\n",
       "       'review_scores_location', 'review_scores_value', 'license',\n",
       "       'reviews_per_month'],\n",
       "      dtype='object')"
      ]
     },
     "execution_count": 443,
     "metadata": {},
     "output_type": "execute_result"
    }
   ],
   "source": [
    "# display the columns with any missing data\n",
    "df.columns[df.isnull().any()]"
   ]
  },
  {
   "cell_type": "markdown",
   "id": "c1862dd9",
   "metadata": {},
   "source": [
    "#### How can we describe the Seattle accommodation offer?"
   ]
  },
  {
   "cell_type": "code",
   "execution_count": 444,
   "id": "cb2d93e4",
   "metadata": {},
   "outputs": [],
   "source": [
    "# define a function that considers the proportion of diferent categories from a categorical variable\n",
    "def data_share(df, var):\n",
    "    share = var.value_counts()/(df.shape[0] - sum(var.isnull())) *100\n",
    "    return round(share,3)"
   ]
  },
  {
   "cell_type": "code",
   "execution_count": 445,
   "id": "9b75378b",
   "metadata": {},
   "outputs": [
    {
     "data": {
      "text/plain": [
       "Seattle                  99.790\n",
       "West Seattle              0.052\n",
       "Seattle                   0.052\n",
       "Ballard, Seattle          0.026\n",
       "西雅图                       0.026\n",
       "Phinney Ridge Seattle     0.026\n",
       "seattle                   0.026\n",
       "Name: city, dtype: float64"
      ]
     },
     "execution_count": 445,
     "metadata": {},
     "output_type": "execute_result"
    }
   ],
   "source": [
    "# check the list of cities associated with the Seattle accomodation listing\n",
    "data_share(df, df.city)"
   ]
  },
  {
   "cell_type": "code",
   "execution_count": 446,
   "id": "28b2752e",
   "metadata": {},
   "outputs": [
    {
     "data": {
      "text/plain": [
       "SEATTLE                  99.869\n",
       "WEST SEATTLE              0.052\n",
       "BALLARD, SEATTLE          0.026\n",
       "西雅图                       0.026\n",
       "PHINNEY RIDGE SEATTLE     0.026\n",
       "Name: city, dtype: float64"
      ]
     },
     "execution_count": 446,
     "metadata": {},
     "output_type": "execute_result"
    }
   ],
   "source": [
    "data_share(df, df['city'].str.upper().str.strip())"
   ]
  },
  {
   "cell_type": "markdown",
   "id": "9eaac6d0",
   "metadata": {},
   "source": [
    "The majority of listings is based in Seattle (almost 99.9%), but the offer also includes cities such as Weast Seattle, Ballard or Phinney Ridge."
   ]
  },
  {
   "cell_type": "code",
   "execution_count": 447,
   "id": "b70aa343",
   "metadata": {},
   "outputs": [],
   "source": [
    "def barplot_draw(var, df, color, title):\n",
    "    values = var.value_counts()\n",
    "    (values/df.shape[0]).plot(kind='bar', color=color);\n",
    "    plt.title(title);"
   ]
  },
  {
   "cell_type": "code",
   "execution_count": 448,
   "id": "5108db2e",
   "metadata": {},
   "outputs": [],
   "source": [
    "def pieplot_draw(var, df, title):\n",
    "    values = var.value_counts()\n",
    "    (values/df.shape[0]).plot(kind='pie', autopct='%.1f', normalize=False);\n",
    "    plt.title(title);"
   ]
  },
  {
   "cell_type": "code",
   "execution_count": 449,
   "id": "16f65aef",
   "metadata": {},
   "outputs": [
    {
     "data": {
      "image/png": "[encoded data removed]",
      "text/plain": [
       "<Figure size 432x288 with 1 Axes>"
      ]
     },
     "metadata": {
      "needs_background": "light"
     },
     "output_type": "display_data"
    }
   ],
   "source": [
    "plot_draw(df['neighbourhood_group_cleansed'], df, 'pink', \"In which neighbourhoods are most of the accomodations listed?\")"
   ]
  },
  {
   "cell_type": "markdown",
   "id": "6d369f15",
   "metadata": {},
   "source": [
    "As we can see, the most accomodations are based in central neighbourhoods as Capitol Hill, Downtown, Central Area and Queen Anne."
   ]
  },
  {
   "cell_type": "code",
   "execution_count": 450,
   "id": "6e4fe052",
   "metadata": {},
   "outputs": [
    {
     "data": {
      "image/png": "[encoded data removed]",
      "text/plain": [
       "<Figure size 432x288 with 1 Axes>"
      ]
     },
     "metadata": {},
     "output_type": "display_data"
    }
   ],
   "source": [
    "pieplot_draw(df['host_response_time'], df, \"In how much time it is likely to receive a response from a host?\");"
   ]
  },
  {
   "cell_type": "markdown",
   "id": "153393c2",
   "metadata": {},
   "source": [
    "The Seattle AirBNB hosts are more likely to reply to a guest within an hour or maybe a few hours, but just a few of them are replying in a day or more. "
   ]
  },
  {
   "cell_type": "code",
   "execution_count": 451,
   "id": "31065983",
   "metadata": {},
   "outputs": [
    {
     "data": {
      "image/png": "[encoded data removed]",
      "text/plain": [
       "<Figure size 432x288 with 1 Axes>"
      ]
     },
     "metadata": {
      "needs_background": "light"
     },
     "output_type": "display_data"
    }
   ],
   "source": [
    "plot_draw(df['property_type'], df, 'purple', \"What type of properties are included in the Seattle listing offered by AirBNB?\")"
   ]
  },
  {
   "cell_type": "markdown",
   "id": "ca5983a8",
   "metadata": {},
   "source": [
    "On the Airbnb platform are mostly listed houses and apartments, although the Seattle offer includes different types of properties from houses to boats or even yurts. "
   ]
  },
  {
   "cell_type": "code",
   "execution_count": 452,
   "id": "b3fdc03d",
   "metadata": {},
   "outputs": [],
   "source": [
    "def category_group(df, var_by_list, var):\n",
    "    return pd.DataFrame(df.groupby(var_by_list).mean()[var].round())"
   ]
  },
  {
   "cell_type": "code",
   "execution_count": 453,
   "id": "c3b45f97",
   "metadata": {},
   "outputs": [
    {
     "data": {
      "text/html": [
       "<div>\n",
       "<style scoped>\n",
       "    .dataframe tbody tr th:only-of-type {\n",
       "        vertical-align: middle;\n",
       "    }\n",
       "\n",
       "    .dataframe tbody tr th {\n",
       "        vertical-align: top;\n",
       "    }\n",
       "\n",
       "    .dataframe thead th {\n",
       "        text-align: right;\n",
       "    }\n",
       "</style>\n",
       "<table border=\"1\" class=\"dataframe\">\n",
       "  <thead>\n",
       "    <tr style=\"text-align: right;\">\n",
       "      <th></th>\n",
       "      <th>availability_365</th>\n",
       "    </tr>\n",
       "    <tr>\n",
       "      <th>room_type</th>\n",
       "      <th></th>\n",
       "    </tr>\n",
       "  </thead>\n",
       "  <tbody>\n",
       "    <tr>\n",
       "      <th>Entire home/apt</th>\n",
       "      <td>233.0</td>\n",
       "    </tr>\n",
       "    <tr>\n",
       "      <th>Private room</th>\n",
       "      <td>264.0</td>\n",
       "    </tr>\n",
       "    <tr>\n",
       "      <th>Shared room</th>\n",
       "      <td>297.0</td>\n",
       "    </tr>\n",
       "  </tbody>\n",
       "</table>\n",
       "</div>"
      ],
      "text/plain": [
       "                 availability_365\n",
       "room_type                        \n",
       "Entire home/apt             233.0\n",
       "Private room                264.0\n",
       "Shared room                 297.0"
      ]
     },
     "execution_count": 453,
     "metadata": {},
     "output_type": "execute_result"
    }
   ],
   "source": [
    "category_group(df, 'room_type', 'availability_365')"
   ]
  },
  {
   "cell_type": "markdown",
   "id": "f3722f1c",
   "metadata": {},
   "source": [
    "A potential guest will have a great chance to find availability for a shared room or even a private room."
   ]
  },
  {
   "cell_type": "code",
   "execution_count": 454,
   "id": "5fde0f97",
   "metadata": {},
   "outputs": [
    {
     "data": {
      "text/html": [
       "<div>\n",
       "<style scoped>\n",
       "    .dataframe tbody tr th:only-of-type {\n",
       "        vertical-align: middle;\n",
       "    }\n",
       "\n",
       "    .dataframe tbody tr th {\n",
       "        vertical-align: top;\n",
       "    }\n",
       "\n",
       "    .dataframe thead th {\n",
       "        text-align: right;\n",
       "    }\n",
       "</style>\n",
       "<table border=\"1\" class=\"dataframe\">\n",
       "  <thead>\n",
       "    <tr style=\"text-align: right;\">\n",
       "      <th></th>\n",
       "      <th>availability_365</th>\n",
       "      <th>number_of_reviews</th>\n",
       "      <th>review_scores_rating</th>\n",
       "      <th>minimum_nights</th>\n",
       "    </tr>\n",
       "    <tr>\n",
       "      <th>property_type</th>\n",
       "      <th></th>\n",
       "      <th></th>\n",
       "      <th></th>\n",
       "      <th></th>\n",
       "    </tr>\n",
       "  </thead>\n",
       "  <tbody>\n",
       "    <tr>\n",
       "      <th>Apartment</th>\n",
       "      <td>239.0</td>\n",
       "      <td>21.0</td>\n",
       "      <td>94.0</td>\n",
       "      <td>3.0</td>\n",
       "    </tr>\n",
       "    <tr>\n",
       "      <th>Bed &amp; Breakfast</th>\n",
       "      <td>267.0</td>\n",
       "      <td>24.0</td>\n",
       "      <td>96.0</td>\n",
       "      <td>2.0</td>\n",
       "    </tr>\n",
       "    <tr>\n",
       "      <th>Boat</th>\n",
       "      <td>284.0</td>\n",
       "      <td>8.0</td>\n",
       "      <td>96.0</td>\n",
       "      <td>1.0</td>\n",
       "    </tr>\n",
       "    <tr>\n",
       "      <th>Bungalow</th>\n",
       "      <td>254.0</td>\n",
       "      <td>6.0</td>\n",
       "      <td>98.0</td>\n",
       "      <td>2.0</td>\n",
       "    </tr>\n",
       "    <tr>\n",
       "      <th>Cabin</th>\n",
       "      <td>242.0</td>\n",
       "      <td>93.0</td>\n",
       "      <td>96.0</td>\n",
       "      <td>2.0</td>\n",
       "    </tr>\n",
       "    <tr>\n",
       "      <th>Camper/RV</th>\n",
       "      <td>263.0</td>\n",
       "      <td>49.0</td>\n",
       "      <td>96.0</td>\n",
       "      <td>2.0</td>\n",
       "    </tr>\n",
       "    <tr>\n",
       "      <th>Chalet</th>\n",
       "      <td>333.0</td>\n",
       "      <td>6.0</td>\n",
       "      <td>84.0</td>\n",
       "      <td>2.0</td>\n",
       "    </tr>\n",
       "    <tr>\n",
       "      <th>Condominium</th>\n",
       "      <td>211.0</td>\n",
       "      <td>8.0</td>\n",
       "      <td>95.0</td>\n",
       "      <td>2.0</td>\n",
       "    </tr>\n",
       "    <tr>\n",
       "      <th>Dorm</th>\n",
       "      <td>213.0</td>\n",
       "      <td>11.0</td>\n",
       "      <td>90.0</td>\n",
       "      <td>1.0</td>\n",
       "    </tr>\n",
       "    <tr>\n",
       "      <th>House</th>\n",
       "      <td>252.0</td>\n",
       "      <td>23.0</td>\n",
       "      <td>95.0</td>\n",
       "      <td>2.0</td>\n",
       "    </tr>\n",
       "    <tr>\n",
       "      <th>Loft</th>\n",
       "      <td>247.0</td>\n",
       "      <td>45.0</td>\n",
       "      <td>95.0</td>\n",
       "      <td>2.0</td>\n",
       "    </tr>\n",
       "    <tr>\n",
       "      <th>Other</th>\n",
       "      <td>316.0</td>\n",
       "      <td>33.0</td>\n",
       "      <td>96.0</td>\n",
       "      <td>2.0</td>\n",
       "    </tr>\n",
       "    <tr>\n",
       "      <th>Tent</th>\n",
       "      <td>175.0</td>\n",
       "      <td>6.0</td>\n",
       "      <td>94.0</td>\n",
       "      <td>1.0</td>\n",
       "    </tr>\n",
       "    <tr>\n",
       "      <th>Townhouse</th>\n",
       "      <td>230.0</td>\n",
       "      <td>9.0</td>\n",
       "      <td>97.0</td>\n",
       "      <td>2.0</td>\n",
       "    </tr>\n",
       "    <tr>\n",
       "      <th>Treehouse</th>\n",
       "      <td>224.0</td>\n",
       "      <td>10.0</td>\n",
       "      <td>96.0</td>\n",
       "      <td>2.0</td>\n",
       "    </tr>\n",
       "    <tr>\n",
       "      <th>Yurt</th>\n",
       "      <td>177.0</td>\n",
       "      <td>25.0</td>\n",
       "      <td>100.0</td>\n",
       "      <td>1.0</td>\n",
       "    </tr>\n",
       "  </tbody>\n",
       "</table>\n",
       "</div>"
      ],
      "text/plain": [
       "                 availability_365  number_of_reviews  review_scores_rating  \\\n",
       "property_type                                                                \n",
       "Apartment                   239.0               21.0                  94.0   \n",
       "Bed & Breakfast             267.0               24.0                  96.0   \n",
       "Boat                        284.0                8.0                  96.0   \n",
       "Bungalow                    254.0                6.0                  98.0   \n",
       "Cabin                       242.0               93.0                  96.0   \n",
       "Camper/RV                   263.0               49.0                  96.0   \n",
       "Chalet                      333.0                6.0                  84.0   \n",
       "Condominium                 211.0                8.0                  95.0   \n",
       "Dorm                        213.0               11.0                  90.0   \n",
       "House                       252.0               23.0                  95.0   \n",
       "Loft                        247.0               45.0                  95.0   \n",
       "Other                       316.0               33.0                  96.0   \n",
       "Tent                        175.0                6.0                  94.0   \n",
       "Townhouse                   230.0                9.0                  97.0   \n",
       "Treehouse                   224.0               10.0                  96.0   \n",
       "Yurt                        177.0               25.0                 100.0   \n",
       "\n",
       "                 minimum_nights  \n",
       "property_type                    \n",
       "Apartment                   3.0  \n",
       "Bed & Breakfast             2.0  \n",
       "Boat                        1.0  \n",
       "Bungalow                    2.0  \n",
       "Cabin                       2.0  \n",
       "Camper/RV                   2.0  \n",
       "Chalet                      2.0  \n",
       "Condominium                 2.0  \n",
       "Dorm                        1.0  \n",
       "House                       2.0  \n",
       "Loft                        2.0  \n",
       "Other                       2.0  \n",
       "Tent                        1.0  \n",
       "Townhouse                   2.0  \n",
       "Treehouse                   2.0  \n",
       "Yurt                        1.0  "
      ]
     },
     "execution_count": 454,
     "metadata": {},
     "output_type": "execute_result"
    }
   ],
   "source": [
    "category_group(df, 'property_type', ['availability_365', 'number_of_reviews', 'review_scores_rating', 'minimum_nights'])"
   ]
  },
  {
   "cell_type": "markdown",
   "id": "dcbf35e5",
   "metadata": {},
   "source": [
    "Base on the above summary:\n",
    "* most of the availability is offered by hosts with proprieties listed as chalets, boats, campers/RVs, on the other side the annual availability is slightly reduced at almost half for tents and yurts\n",
    "* cabins, campers/RVs and lofts are top 3 in the number of reviews\n",
    "* the biggest scored are held by properties such as yurts, bungalows and townhouses\n",
    "* apartment owners are the only ones that require al least 3 nights for renting"
   ]
  },
  {
   "cell_type": "code",
   "execution_count": 455,
   "id": "7f01ee7d",
   "metadata": {},
   "outputs": [
    {
     "data": {
      "text/html": [
       "<div>\n",
       "<style scoped>\n",
       "    .dataframe tbody tr th:only-of-type {\n",
       "        vertical-align: middle;\n",
       "    }\n",
       "\n",
       "    .dataframe tbody tr th {\n",
       "        vertical-align: top;\n",
       "    }\n",
       "\n",
       "    .dataframe thead th {\n",
       "        text-align: right;\n",
       "    }\n",
       "</style>\n",
       "<table border=\"1\" class=\"dataframe\">\n",
       "  <thead>\n",
       "    <tr style=\"text-align: right;\">\n",
       "      <th></th>\n",
       "      <th></th>\n",
       "      <th>availability_365</th>\n",
       "    </tr>\n",
       "    <tr>\n",
       "      <th>host_is_superhost</th>\n",
       "      <th>room_type</th>\n",
       "      <th></th>\n",
       "    </tr>\n",
       "  </thead>\n",
       "  <tbody>\n",
       "    <tr>\n",
       "      <th rowspan=\"3\" valign=\"top\">f</th>\n",
       "      <th>Entire home/apt</th>\n",
       "      <td>233.0</td>\n",
       "    </tr>\n",
       "    <tr>\n",
       "      <th>Private room</th>\n",
       "      <td>266.0</td>\n",
       "    </tr>\n",
       "    <tr>\n",
       "      <th>Shared room</th>\n",
       "      <td>306.0</td>\n",
       "    </tr>\n",
       "    <tr>\n",
       "      <th rowspan=\"3\" valign=\"top\">t</th>\n",
       "      <th>Entire home/apt</th>\n",
       "      <td>235.0</td>\n",
       "    </tr>\n",
       "    <tr>\n",
       "      <th>Private room</th>\n",
       "      <td>256.0</td>\n",
       "    </tr>\n",
       "    <tr>\n",
       "      <th>Shared room</th>\n",
       "      <td>209.0</td>\n",
       "    </tr>\n",
       "  </tbody>\n",
       "</table>\n",
       "</div>"
      ],
      "text/plain": [
       "                                   availability_365\n",
       "host_is_superhost room_type                        \n",
       "f                 Entire home/apt             233.0\n",
       "                  Private room                266.0\n",
       "                  Shared room                 306.0\n",
       "t                 Entire home/apt             235.0\n",
       "                  Private room                256.0\n",
       "                  Shared room                 209.0"
      ]
     },
     "execution_count": 455,
     "metadata": {},
     "output_type": "execute_result"
    }
   ],
   "source": [
    "category_group(df, ['host_is_superhost', 'room_type'], ['availability_365'])"
   ]
  },
  {
   "cell_type": "markdown",
   "id": "c768f82d",
   "metadata": {},
   "source": [
    "Considering the host and room type, overall the Superhosts have less availability across the entire year."
   ]
  },
  {
   "cell_type": "code",
   "execution_count": 456,
   "id": "58e27f85",
   "metadata": {},
   "outputs": [
    {
     "data": {
      "text/html": [
       "<div>\n",
       "<style scoped>\n",
       "    .dataframe tbody tr th:only-of-type {\n",
       "        vertical-align: middle;\n",
       "    }\n",
       "\n",
       "    .dataframe tbody tr th {\n",
       "        vertical-align: top;\n",
       "    }\n",
       "\n",
       "    .dataframe thead th {\n",
       "        text-align: right;\n",
       "    }\n",
       "</style>\n",
       "<table border=\"1\" class=\"dataframe\">\n",
       "  <thead>\n",
       "    <tr style=\"text-align: right;\">\n",
       "      <th></th>\n",
       "      <th></th>\n",
       "      <th>availability_365</th>\n",
       "    </tr>\n",
       "    <tr>\n",
       "      <th>city</th>\n",
       "      <th>room_type</th>\n",
       "      <th></th>\n",
       "    </tr>\n",
       "  </thead>\n",
       "  <tbody>\n",
       "    <tr>\n",
       "      <th>BALLARD, SEATTLE</th>\n",
       "      <th>Entire home/apt</th>\n",
       "      <td>289.0</td>\n",
       "    </tr>\n",
       "    <tr>\n",
       "      <th>PHINNEY RIDGE SEATTLE</th>\n",
       "      <th>Entire home/apt</th>\n",
       "      <td>15.0</td>\n",
       "    </tr>\n",
       "    <tr>\n",
       "      <th rowspan=\"3\" valign=\"top\">SEATTLE</th>\n",
       "      <th>Entire home/apt</th>\n",
       "      <td>234.0</td>\n",
       "    </tr>\n",
       "    <tr>\n",
       "      <th>Private room</th>\n",
       "      <td>264.0</td>\n",
       "    </tr>\n",
       "    <tr>\n",
       "      <th>Shared room</th>\n",
       "      <td>297.0</td>\n",
       "    </tr>\n",
       "    <tr>\n",
       "      <th>WEST SEATTLE</th>\n",
       "      <th>Private room</th>\n",
       "      <td>362.0</td>\n",
       "    </tr>\n",
       "    <tr>\n",
       "      <th>西雅图</th>\n",
       "      <th>Private room</th>\n",
       "      <td>171.0</td>\n",
       "    </tr>\n",
       "  </tbody>\n",
       "</table>\n",
       "</div>"
      ],
      "text/plain": [
       "                                       availability_365\n",
       "city                  room_type                        \n",
       "BALLARD, SEATTLE      Entire home/apt             289.0\n",
       "PHINNEY RIDGE SEATTLE Entire home/apt              15.0\n",
       "SEATTLE               Entire home/apt             234.0\n",
       "                      Private room                264.0\n",
       "                      Shared room                 297.0\n",
       "WEST SEATTLE          Private room                362.0\n",
       "西雅图                   Private room                171.0"
      ]
     },
     "execution_count": 456,
     "metadata": {},
     "output_type": "execute_result"
    }
   ],
   "source": [
    "category_group(df, [df['city'].str.upper().str.strip(), 'room_type'], 'availability_365')"
   ]
  },
  {
   "cell_type": "markdown",
   "id": "c37ea823",
   "metadata": {},
   "source": [
    "#### What factors seem to have a strong impact in receiving a Superhost badge?"
   ]
  },
  {
   "cell_type": "code",
   "execution_count": 457,
   "id": "a9bc9a94",
   "metadata": {},
   "outputs": [
    {
     "data": {
      "image/png": "[encoded data removed]",
      "text/plain": [
       "<Figure size 432x288 with 1 Axes>"
      ]
     },
     "metadata": {},
     "output_type": "display_data"
    }
   ],
   "source": [
    "# check the share of Superhosts in the Seattle AirBNB database\n",
    "pieplot_draw(df['host_is_superhost'], df, \"Superhosts?\")"
   ]
  },
  {
   "cell_type": "markdown",
   "id": "a4bd8dee",
   "metadata": {},
   "source": [
    "20.4% of the hosts are listed as Superhosts by AirBNB. "
   ]
  },
  {
   "cell_type": "code",
   "execution_count": 458,
   "id": "1e5d2d18",
   "metadata": {},
   "outputs": [],
   "source": [
    "# define a function to characterize the behaviour of a Superhost\n",
    "def category_query(df, var_by):\n",
    "    return pd.DataFrame(df.query(\"host_is_superhost == 't'\").groupby(var_by).count()['host_id'])"
   ]
  },
  {
   "cell_type": "code",
   "execution_count": 459,
   "id": "85c9b17c",
   "metadata": {},
   "outputs": [
    {
     "data": {
      "text/html": [
       "<div>\n",
       "<style scoped>\n",
       "    .dataframe tbody tr th:only-of-type {\n",
       "        vertical-align: middle;\n",
       "    }\n",
       "\n",
       "    .dataframe tbody tr th {\n",
       "        vertical-align: top;\n",
       "    }\n",
       "\n",
       "    .dataframe thead th {\n",
       "        text-align: right;\n",
       "    }\n",
       "</style>\n",
       "<table border=\"1\" class=\"dataframe\">\n",
       "  <thead>\n",
       "    <tr style=\"text-align: right;\">\n",
       "      <th></th>\n",
       "      <th></th>\n",
       "      <th>host_id</th>\n",
       "    </tr>\n",
       "    <tr>\n",
       "      <th>host_is_superhost</th>\n",
       "      <th>host_has_profile_pic</th>\n",
       "      <th></th>\n",
       "    </tr>\n",
       "  </thead>\n",
       "  <tbody>\n",
       "    <tr>\n",
       "      <th rowspan=\"2\" valign=\"top\">t</th>\n",
       "      <th>f</th>\n",
       "      <td>1</td>\n",
       "    </tr>\n",
       "    <tr>\n",
       "      <th>t</th>\n",
       "      <td>777</td>\n",
       "    </tr>\n",
       "  </tbody>\n",
       "</table>\n",
       "</div>"
      ],
      "text/plain": [
       "                                        host_id\n",
       "host_is_superhost host_has_profile_pic         \n",
       "t                 f                           1\n",
       "                  t                         777"
      ]
     },
     "execution_count": 459,
     "metadata": {},
     "output_type": "execute_result"
    }
   ],
   "source": [
    "category_query(df, ['host_is_superhost', 'host_has_profile_pic'])"
   ]
  },
  {
   "cell_type": "code",
   "execution_count": 226,
   "id": "6df1cd37",
   "metadata": {},
   "outputs": [
    {
     "data": {
      "text/html": [
       "<div>\n",
       "<style scoped>\n",
       "    .dataframe tbody tr th:only-of-type {\n",
       "        vertical-align: middle;\n",
       "    }\n",
       "\n",
       "    .dataframe tbody tr th {\n",
       "        vertical-align: top;\n",
       "    }\n",
       "\n",
       "    .dataframe thead th {\n",
       "        text-align: right;\n",
       "    }\n",
       "</style>\n",
       "<table border=\"1\" class=\"dataframe\">\n",
       "  <thead>\n",
       "    <tr style=\"text-align: right;\">\n",
       "      <th></th>\n",
       "      <th></th>\n",
       "      <th>host_id</th>\n",
       "    </tr>\n",
       "    <tr>\n",
       "      <th>host_is_superhost</th>\n",
       "      <th>host_identity_verified</th>\n",
       "      <th></th>\n",
       "    </tr>\n",
       "  </thead>\n",
       "  <tbody>\n",
       "    <tr>\n",
       "      <th rowspan=\"2\" valign=\"top\">t</th>\n",
       "      <th>f</th>\n",
       "      <td>75</td>\n",
       "    </tr>\n",
       "    <tr>\n",
       "      <th>t</th>\n",
       "      <td>703</td>\n",
       "    </tr>\n",
       "  </tbody>\n",
       "</table>\n",
       "</div>"
      ],
      "text/plain": [
       "                                          host_id\n",
       "host_is_superhost host_identity_verified         \n",
       "t                 f                            75\n",
       "                  t                           703"
      ]
     },
     "execution_count": 226,
     "metadata": {},
     "output_type": "execute_result"
    }
   ],
   "source": [
    "category_query(df, ['host_is_superhost', 'host_identity_verified'])"
   ]
  },
  {
   "cell_type": "code",
   "execution_count": 227,
   "id": "708adad0",
   "metadata": {},
   "outputs": [
    {
     "data": {
      "text/html": [
       "<div>\n",
       "<style scoped>\n",
       "    .dataframe tbody tr th:only-of-type {\n",
       "        vertical-align: middle;\n",
       "    }\n",
       "\n",
       "    .dataframe tbody tr th {\n",
       "        vertical-align: top;\n",
       "    }\n",
       "\n",
       "    .dataframe thead th {\n",
       "        text-align: right;\n",
       "    }\n",
       "</style>\n",
       "<table border=\"1\" class=\"dataframe\">\n",
       "  <thead>\n",
       "    <tr style=\"text-align: right;\">\n",
       "      <th></th>\n",
       "      <th></th>\n",
       "      <th>host_id</th>\n",
       "    </tr>\n",
       "    <tr>\n",
       "      <th>host_is_superhost</th>\n",
       "      <th>host_response_time</th>\n",
       "      <th></th>\n",
       "    </tr>\n",
       "  </thead>\n",
       "  <tbody>\n",
       "    <tr>\n",
       "      <th rowspan=\"4\" valign=\"top\">t</th>\n",
       "      <th>a few days or more</th>\n",
       "      <td>1</td>\n",
       "    </tr>\n",
       "    <tr>\n",
       "      <th>within a day</th>\n",
       "      <td>57</td>\n",
       "    </tr>\n",
       "    <tr>\n",
       "      <th>within a few hours</th>\n",
       "      <td>198</td>\n",
       "    </tr>\n",
       "    <tr>\n",
       "      <th>within an hour</th>\n",
       "      <td>489</td>\n",
       "    </tr>\n",
       "  </tbody>\n",
       "</table>\n",
       "</div>"
      ],
      "text/plain": [
       "                                      host_id\n",
       "host_is_superhost host_response_time         \n",
       "t                 a few days or more        1\n",
       "                  within a day             57\n",
       "                  within a few hours      198\n",
       "                  within an hour          489"
      ]
     },
     "execution_count": 227,
     "metadata": {},
     "output_type": "execute_result"
    }
   ],
   "source": [
    "category_query(df, ['host_is_superhost', 'host_response_time'])"
   ]
  },
  {
   "cell_type": "code",
   "execution_count": 228,
   "id": "b343ab7f",
   "metadata": {},
   "outputs": [
    {
     "data": {
      "text/html": [
       "<div>\n",
       "<style scoped>\n",
       "    .dataframe tbody tr th:only-of-type {\n",
       "        vertical-align: middle;\n",
       "    }\n",
       "\n",
       "    .dataframe tbody tr th {\n",
       "        vertical-align: top;\n",
       "    }\n",
       "\n",
       "    .dataframe thead th {\n",
       "        text-align: right;\n",
       "    }\n",
       "</style>\n",
       "<table border=\"1\" class=\"dataframe\">\n",
       "  <thead>\n",
       "    <tr style=\"text-align: right;\">\n",
       "      <th></th>\n",
       "      <th></th>\n",
       "      <th>host_id</th>\n",
       "    </tr>\n",
       "    <tr>\n",
       "      <th>host_is_superhost</th>\n",
       "      <th>cancellation_policy</th>\n",
       "      <th></th>\n",
       "    </tr>\n",
       "  </thead>\n",
       "  <tbody>\n",
       "    <tr>\n",
       "      <th rowspan=\"3\" valign=\"top\">t</th>\n",
       "      <th>flexible</th>\n",
       "      <td>142</td>\n",
       "    </tr>\n",
       "    <tr>\n",
       "      <th>moderate</th>\n",
       "      <td>301</td>\n",
       "    </tr>\n",
       "    <tr>\n",
       "      <th>strict</th>\n",
       "      <td>335</td>\n",
       "    </tr>\n",
       "  </tbody>\n",
       "</table>\n",
       "</div>"
      ],
      "text/plain": [
       "                                       host_id\n",
       "host_is_superhost cancellation_policy         \n",
       "t                 flexible                 142\n",
       "                  moderate                 301\n",
       "                  strict                   335"
      ]
     },
     "execution_count": 228,
     "metadata": {},
     "output_type": "execute_result"
    }
   ],
   "source": [
    "category_query(df, ['host_is_superhost', 'cancellation_policy'])"
   ]
  },
  {
   "cell_type": "code",
   "execution_count": 229,
   "id": "f1e4fe01",
   "metadata": {},
   "outputs": [
    {
     "data": {
      "text/html": [
       "<div>\n",
       "<style scoped>\n",
       "    .dataframe tbody tr th:only-of-type {\n",
       "        vertical-align: middle;\n",
       "    }\n",
       "\n",
       "    .dataframe tbody tr th {\n",
       "        vertical-align: top;\n",
       "    }\n",
       "\n",
       "    .dataframe thead th {\n",
       "        text-align: right;\n",
       "    }\n",
       "</style>\n",
       "<table border=\"1\" class=\"dataframe\">\n",
       "  <thead>\n",
       "    <tr style=\"text-align: right;\">\n",
       "      <th></th>\n",
       "      <th></th>\n",
       "      <th>host_id</th>\n",
       "    </tr>\n",
       "    <tr>\n",
       "      <th>host_is_superhost</th>\n",
       "      <th>require_guest_profile_picture</th>\n",
       "      <th></th>\n",
       "    </tr>\n",
       "  </thead>\n",
       "  <tbody>\n",
       "    <tr>\n",
       "      <th rowspan=\"2\" valign=\"top\">t</th>\n",
       "      <th>f</th>\n",
       "      <td>670</td>\n",
       "    </tr>\n",
       "    <tr>\n",
       "      <th>t</th>\n",
       "      <td>108</td>\n",
       "    </tr>\n",
       "  </tbody>\n",
       "</table>\n",
       "</div>"
      ],
      "text/plain": [
       "                                                 host_id\n",
       "host_is_superhost require_guest_profile_picture         \n",
       "t                 f                                  670\n",
       "                  t                                  108"
      ]
     },
     "execution_count": 229,
     "metadata": {},
     "output_type": "execute_result"
    }
   ],
   "source": [
    "category_query(df, ['host_is_superhost', 'require_guest_profile_picture'])"
   ]
  },
  {
   "cell_type": "code",
   "execution_count": 230,
   "id": "3bfdb4e9",
   "metadata": {},
   "outputs": [
    {
     "data": {
      "text/html": [
       "<div>\n",
       "<style scoped>\n",
       "    .dataframe tbody tr th:only-of-type {\n",
       "        vertical-align: middle;\n",
       "    }\n",
       "\n",
       "    .dataframe tbody tr th {\n",
       "        vertical-align: top;\n",
       "    }\n",
       "\n",
       "    .dataframe thead th {\n",
       "        text-align: right;\n",
       "    }\n",
       "</style>\n",
       "<table border=\"1\" class=\"dataframe\">\n",
       "  <thead>\n",
       "    <tr style=\"text-align: right;\">\n",
       "      <th></th>\n",
       "      <th></th>\n",
       "      <th>host_id</th>\n",
       "    </tr>\n",
       "    <tr>\n",
       "      <th>host_is_superhost</th>\n",
       "      <th>require_guest_phone_verification</th>\n",
       "      <th></th>\n",
       "    </tr>\n",
       "  </thead>\n",
       "  <tbody>\n",
       "    <tr>\n",
       "      <th rowspan=\"2\" valign=\"top\">t</th>\n",
       "      <th>f</th>\n",
       "      <td>654</td>\n",
       "    </tr>\n",
       "    <tr>\n",
       "      <th>t</th>\n",
       "      <td>124</td>\n",
       "    </tr>\n",
       "  </tbody>\n",
       "</table>\n",
       "</div>"
      ],
      "text/plain": [
       "                                                    host_id\n",
       "host_is_superhost require_guest_phone_verification         \n",
       "t                 f                                     654\n",
       "                  t                                     124"
      ]
     },
     "execution_count": 230,
     "metadata": {},
     "output_type": "execute_result"
    }
   ],
   "source": [
    "category_query(df, ['host_is_superhost', 'require_guest_phone_verification'])"
   ]
  },
  {
   "cell_type": "code",
   "execution_count": 118,
   "id": "16818f9a",
   "metadata": {},
   "outputs": [
    {
     "data": {
      "text/html": [
       "<div>\n",
       "<style scoped>\n",
       "    .dataframe tbody tr th:only-of-type {\n",
       "        vertical-align: middle;\n",
       "    }\n",
       "\n",
       "    .dataframe tbody tr th {\n",
       "        vertical-align: top;\n",
       "    }\n",
       "\n",
       "    .dataframe thead th {\n",
       "        text-align: right;\n",
       "    }\n",
       "</style>\n",
       "<table border=\"1\" class=\"dataframe\">\n",
       "  <thead>\n",
       "    <tr style=\"text-align: right;\">\n",
       "      <th></th>\n",
       "      <th></th>\n",
       "      <th>host_id</th>\n",
       "    </tr>\n",
       "    <tr>\n",
       "      <th>host_is_superhost</th>\n",
       "      <th>property_type</th>\n",
       "      <th></th>\n",
       "    </tr>\n",
       "  </thead>\n",
       "  <tbody>\n",
       "    <tr>\n",
       "      <th rowspan=\"12\" valign=\"top\">t</th>\n",
       "      <th>Apartment</th>\n",
       "      <td>319</td>\n",
       "    </tr>\n",
       "    <tr>\n",
       "      <th>Bed &amp; Breakfast</th>\n",
       "      <td>8</td>\n",
       "    </tr>\n",
       "    <tr>\n",
       "      <th>Bungalow</th>\n",
       "      <td>1</td>\n",
       "    </tr>\n",
       "    <tr>\n",
       "      <th>Cabin</th>\n",
       "      <td>14</td>\n",
       "    </tr>\n",
       "    <tr>\n",
       "      <th>Camper/RV</th>\n",
       "      <td>4</td>\n",
       "    </tr>\n",
       "    <tr>\n",
       "      <th>Condominium</th>\n",
       "      <td>14</td>\n",
       "    </tr>\n",
       "    <tr>\n",
       "      <th>House</th>\n",
       "      <td>381</td>\n",
       "    </tr>\n",
       "    <tr>\n",
       "      <th>Loft</th>\n",
       "      <td>11</td>\n",
       "    </tr>\n",
       "    <tr>\n",
       "      <th>Other</th>\n",
       "      <td>2</td>\n",
       "    </tr>\n",
       "    <tr>\n",
       "      <th>Townhouse</th>\n",
       "      <td>22</td>\n",
       "    </tr>\n",
       "    <tr>\n",
       "      <th>Treehouse</th>\n",
       "      <td>1</td>\n",
       "    </tr>\n",
       "    <tr>\n",
       "      <th>Yurt</th>\n",
       "      <td>1</td>\n",
       "    </tr>\n",
       "  </tbody>\n",
       "</table>\n",
       "</div>"
      ],
      "text/plain": [
       "                                   host_id\n",
       "host_is_superhost property_type           \n",
       "t                 Apartment            319\n",
       "                  Bed & Breakfast        8\n",
       "                  Bungalow               1\n",
       "                  Cabin                 14\n",
       "                  Camper/RV              4\n",
       "                  Condominium           14\n",
       "                  House                381\n",
       "                  Loft                  11\n",
       "                  Other                  2\n",
       "                  Townhouse             22\n",
       "                  Treehouse              1\n",
       "                  Yurt                   1"
      ]
     },
     "execution_count": 118,
     "metadata": {},
     "output_type": "execute_result"
    }
   ],
   "source": [
    "category_query(df, ['host_is_superhost', 'property_type'])"
   ]
  },
  {
   "cell_type": "code",
   "execution_count": 430,
   "id": "851c9506",
   "metadata": {},
   "outputs": [
    {
     "data": {
      "text/html": [
       "<div>\n",
       "<style scoped>\n",
       "    .dataframe tbody tr th:only-of-type {\n",
       "        vertical-align: middle;\n",
       "    }\n",
       "\n",
       "    .dataframe tbody tr th {\n",
       "        vertical-align: top;\n",
       "    }\n",
       "\n",
       "    .dataframe thead th {\n",
       "        text-align: right;\n",
       "    }\n",
       "</style>\n",
       "<table border=\"1\" class=\"dataframe\">\n",
       "  <thead>\n",
       "    <tr style=\"text-align: right;\">\n",
       "      <th></th>\n",
       "      <th></th>\n",
       "      <th>host_id</th>\n",
       "    </tr>\n",
       "    <tr>\n",
       "      <th>host_is_superhost</th>\n",
       "      <th>has_availability</th>\n",
       "      <th></th>\n",
       "    </tr>\n",
       "  </thead>\n",
       "  <tbody>\n",
       "    <tr>\n",
       "      <th>t</th>\n",
       "      <th>t</th>\n",
       "      <td>728</td>\n",
       "    </tr>\n",
       "  </tbody>\n",
       "</table>\n",
       "</div>"
      ],
      "text/plain": [
       "                                    host_id\n",
       "host_is_superhost has_availability         \n",
       "t                 t                     728"
      ]
     },
     "execution_count": 430,
     "metadata": {},
     "output_type": "execute_result"
    }
   ],
   "source": [
    "category_query(df, ['host_is_superhost', 'has_availability'])"
   ]
  },
  {
   "cell_type": "code",
   "execution_count": 232,
   "id": "0f84287c",
   "metadata": {},
   "outputs": [
    {
     "data": {
      "text/html": [
       "<div>\n",
       "<style scoped>\n",
       "    .dataframe tbody tr th:only-of-type {\n",
       "        vertical-align: middle;\n",
       "    }\n",
       "\n",
       "    .dataframe tbody tr th {\n",
       "        vertical-align: top;\n",
       "    }\n",
       "\n",
       "    .dataframe thead th {\n",
       "        text-align: right;\n",
       "    }\n",
       "</style>\n",
       "<table border=\"1\" class=\"dataframe\">\n",
       "  <thead>\n",
       "    <tr style=\"text-align: right;\">\n",
       "      <th></th>\n",
       "      <th></th>\n",
       "      <th>host_id</th>\n",
       "    </tr>\n",
       "    <tr>\n",
       "      <th>host_is_superhost</th>\n",
       "      <th>instant_bookable</th>\n",
       "      <th></th>\n",
       "    </tr>\n",
       "  </thead>\n",
       "  <tbody>\n",
       "    <tr>\n",
       "      <th rowspan=\"2\" valign=\"top\">t</th>\n",
       "      <th>f</th>\n",
       "      <td>612</td>\n",
       "    </tr>\n",
       "    <tr>\n",
       "      <th>t</th>\n",
       "      <td>166</td>\n",
       "    </tr>\n",
       "  </tbody>\n",
       "</table>\n",
       "</div>"
      ],
      "text/plain": [
       "                                    host_id\n",
       "host_is_superhost instant_bookable         \n",
       "t                 f                     612\n",
       "                  t                     166"
      ]
     },
     "execution_count": 232,
     "metadata": {},
     "output_type": "execute_result"
    }
   ],
   "source": [
    "category_query(df, ['host_is_superhost', 'instant_bookable'])"
   ]
  },
  {
   "cell_type": "markdown",
   "id": "d1f3107c",
   "metadata": {},
   "source": [
    "#### Conclusion\n",
    "\n",
    "Studying the data on Superhosts characteristics, we can state that:\n",
    "\n",
    "* almost all hosts shared a profile picture with all AirBNB users \n",
    "* the majority of them has been verified and certified on the AirBNB platform \n",
    "* the guests are likely to receive a reply from a Superhost in within an hour or perhaps a few hours the most (just a few of them take more than a day to offer a response)\n",
    "* most of the hosts impose a strict or moderate cancellation policy\n",
    "* for the biggest part of the Superhosts, the guest are not required a profile picture or a phone verification as a prerequisite for the validation of the accomodation\n",
    "* in the matter of properties type, most of the accomodation listed by Superhosts are categorized as houses or apartments\n",
    "* there is a large variety of accommodations offered by Superhosts from houses to treehouses of even bungalow\n",
    "* all the Superhosts are marked with availability for renting\n",
    "* although available, most of the Superhosts accomodations are not listed as instant bookable"
   ]
  },
  {
   "cell_type": "markdown",
   "id": "5dd10ff7",
   "metadata": {},
   "source": [
    "### 3. Data Preparation\n",
    "\n",
    "* Data formatting\n",
    "* Missing data handeling \n",
    "* Duplicate data wrangling\n",
    "* Outliers filtering"
   ]
  },
  {
   "cell_type": "markdown",
   "id": "e374aae5",
   "metadata": {},
   "source": [
    "First, check data format."
   ]
  },
  {
   "cell_type": "code",
   "execution_count": 460,
   "id": "03539c17",
   "metadata": {},
   "outputs": [
    {
     "data": {
      "text/plain": [
       "array(['SEATTLE', 'BALLARD, SEATTLE', 'WEST SEATTLE', '西雅图',\n",
       "       'PHINNEY RIDGE SEATTLE'], dtype=object)"
      ]
     },
     "execution_count": 460,
     "metadata": {},
     "output_type": "execute_result"
    }
   ],
   "source": [
    "# update the city column - transform to upper character and remove any spaces\n",
    "df['city'] = df['city'].str.upper().str.strip()\n",
    "df['city'].unique()"
   ]
  },
  {
   "cell_type": "code",
   "execution_count": 461,
   "id": "9a5f7510",
   "metadata": {},
   "outputs": [
    {
     "data": {
      "text/plain": [
       "id                                    int64\n",
       "listing_url                          object\n",
       "scrape_id                             int64\n",
       "last_scraped                         object\n",
       "name                                 object\n",
       "                                     ...   \n",
       "cancellation_policy                  object\n",
       "require_guest_profile_picture        object\n",
       "require_guest_phone_verification     object\n",
       "calculated_host_listings_count        int64\n",
       "reviews_per_month                   float64\n",
       "Length: 92, dtype: object"
      ]
     },
     "execution_count": 461,
     "metadata": {},
     "output_type": "execute_result"
    }
   ],
   "source": [
    "# check variables data types \n",
    "df.dtypes"
   ]
  },
  {
   "cell_type": "code",
   "execution_count": 462,
   "id": "5ab024d4",
   "metadata": {},
   "outputs": [],
   "source": [
    "# remove the $ sign from the following columns: price, weekly_price, monthly_price, security_deposit, cleaning_fee, extra_people\n",
    "def sign_clear(var, sign, var_type):\n",
    "    return var.replace('[{},]'.format(sign), '', regex = True).astype(var_type)"
   ]
  },
  {
   "cell_type": "code",
   "execution_count": 463,
   "id": "f836e25c",
   "metadata": {},
   "outputs": [
    {
     "data": {
      "text/html": [
       "<div>\n",
       "<style scoped>\n",
       "    .dataframe tbody tr th:only-of-type {\n",
       "        vertical-align: middle;\n",
       "    }\n",
       "\n",
       "    .dataframe tbody tr th {\n",
       "        vertical-align: top;\n",
       "    }\n",
       "\n",
       "    .dataframe thead th {\n",
       "        text-align: right;\n",
       "    }\n",
       "</style>\n",
       "<table border=\"1\" class=\"dataframe\">\n",
       "  <thead>\n",
       "    <tr style=\"text-align: right;\">\n",
       "      <th></th>\n",
       "      <th>price</th>\n",
       "      <th>weekly_price</th>\n",
       "      <th>monthly_price</th>\n",
       "      <th>security_deposit</th>\n",
       "      <th>cleaning_fee</th>\n",
       "      <th>extra_people</th>\n",
       "    </tr>\n",
       "  </thead>\n",
       "  <tbody>\n",
       "    <tr>\n",
       "      <th>0</th>\n",
       "      <td>85.0</td>\n",
       "      <td>NaN</td>\n",
       "      <td>NaN</td>\n",
       "      <td>NaN</td>\n",
       "      <td>NaN</td>\n",
       "      <td>5.0</td>\n",
       "    </tr>\n",
       "    <tr>\n",
       "      <th>1</th>\n",
       "      <td>150.0</td>\n",
       "      <td>1000.0</td>\n",
       "      <td>3000.0</td>\n",
       "      <td>100.0</td>\n",
       "      <td>40.0</td>\n",
       "      <td>0.0</td>\n",
       "    </tr>\n",
       "    <tr>\n",
       "      <th>2</th>\n",
       "      <td>975.0</td>\n",
       "      <td>NaN</td>\n",
       "      <td>NaN</td>\n",
       "      <td>1000.0</td>\n",
       "      <td>300.0</td>\n",
       "      <td>25.0</td>\n",
       "    </tr>\n",
       "    <tr>\n",
       "      <th>3</th>\n",
       "      <td>100.0</td>\n",
       "      <td>650.0</td>\n",
       "      <td>2300.0</td>\n",
       "      <td>NaN</td>\n",
       "      <td>NaN</td>\n",
       "      <td>0.0</td>\n",
       "    </tr>\n",
       "    <tr>\n",
       "      <th>4</th>\n",
       "      <td>450.0</td>\n",
       "      <td>NaN</td>\n",
       "      <td>NaN</td>\n",
       "      <td>700.0</td>\n",
       "      <td>125.0</td>\n",
       "      <td>15.0</td>\n",
       "    </tr>\n",
       "  </tbody>\n",
       "</table>\n",
       "</div>"
      ],
      "text/plain": [
       "   price  weekly_price  monthly_price  security_deposit  cleaning_fee  \\\n",
       "0   85.0           NaN            NaN               NaN           NaN   \n",
       "1  150.0        1000.0         3000.0             100.0          40.0   \n",
       "2  975.0           NaN            NaN            1000.0         300.0   \n",
       "3  100.0         650.0         2300.0               NaN           NaN   \n",
       "4  450.0           NaN            NaN             700.0         125.0   \n",
       "\n",
       "   extra_people  \n",
       "0           5.0  \n",
       "1           0.0  \n",
       "2          25.0  \n",
       "3           0.0  \n",
       "4          15.0  "
      ]
     },
     "execution_count": 463,
     "metadata": {},
     "output_type": "execute_result"
    }
   ],
   "source": [
    "df[['price','weekly_price', 'monthly_price', 'security_deposit', 'cleaning_fee', 'extra_people']] = sign_clear(df[['price','weekly_price',  'monthly_price', 'security_deposit', 'cleaning_fee', 'extra_people']], '$', 'float64')\n",
    "\n",
    "#test\n",
    "df[['price','weekly_price', 'monthly_price', 'security_deposit', 'cleaning_fee', 'extra_people']].head()"
   ]
  },
  {
   "cell_type": "code",
   "execution_count": 464,
   "id": "0ad1f04f",
   "metadata": {},
   "outputs": [
    {
     "data": {
      "text/html": [
       "<div>\n",
       "<style scoped>\n",
       "    .dataframe tbody tr th:only-of-type {\n",
       "        vertical-align: middle;\n",
       "    }\n",
       "\n",
       "    .dataframe tbody tr th {\n",
       "        vertical-align: top;\n",
       "    }\n",
       "\n",
       "    .dataframe thead th {\n",
       "        text-align: right;\n",
       "    }\n",
       "</style>\n",
       "<table border=\"1\" class=\"dataframe\">\n",
       "  <thead>\n",
       "    <tr style=\"text-align: right;\">\n",
       "      <th></th>\n",
       "      <th>host_response_rate</th>\n",
       "      <th>host_acceptance_rate</th>\n",
       "      <th>host_listings_count</th>\n",
       "      <th>host_total_listings_count</th>\n",
       "      <th>accommodates</th>\n",
       "      <th>bathrooms</th>\n",
       "      <th>bedrooms</th>\n",
       "      <th>beds</th>\n",
       "      <th>guests_included</th>\n",
       "      <th>minimum_nights</th>\n",
       "      <th>...</th>\n",
       "      <th>number_of_reviews</th>\n",
       "      <th>review_scores_rating</th>\n",
       "      <th>review_scores_accuracy</th>\n",
       "      <th>review_scores_cleanliness</th>\n",
       "      <th>review_scores_checkin</th>\n",
       "      <th>review_scores_communication</th>\n",
       "      <th>review_scores_location</th>\n",
       "      <th>review_scores_value</th>\n",
       "      <th>calculated_host_listings_count</th>\n",
       "      <th>reviews_per_month</th>\n",
       "    </tr>\n",
       "  </thead>\n",
       "  <tbody>\n",
       "    <tr>\n",
       "      <th>0</th>\n",
       "      <td>96.0</td>\n",
       "      <td>100.0</td>\n",
       "      <td>3.0</td>\n",
       "      <td>3.0</td>\n",
       "      <td>4.0</td>\n",
       "      <td>1.0</td>\n",
       "      <td>1.0</td>\n",
       "      <td>1.0</td>\n",
       "      <td>2.0</td>\n",
       "      <td>1.0</td>\n",
       "      <td>...</td>\n",
       "      <td>207.0</td>\n",
       "      <td>95.0</td>\n",
       "      <td>10.0</td>\n",
       "      <td>10.0</td>\n",
       "      <td>10.0</td>\n",
       "      <td>10.0</td>\n",
       "      <td>9.0</td>\n",
       "      <td>10.0</td>\n",
       "      <td>2.0</td>\n",
       "      <td>4.07</td>\n",
       "    </tr>\n",
       "    <tr>\n",
       "      <th>1</th>\n",
       "      <td>98.0</td>\n",
       "      <td>100.0</td>\n",
       "      <td>6.0</td>\n",
       "      <td>6.0</td>\n",
       "      <td>4.0</td>\n",
       "      <td>1.0</td>\n",
       "      <td>1.0</td>\n",
       "      <td>1.0</td>\n",
       "      <td>1.0</td>\n",
       "      <td>2.0</td>\n",
       "      <td>...</td>\n",
       "      <td>43.0</td>\n",
       "      <td>96.0</td>\n",
       "      <td>10.0</td>\n",
       "      <td>10.0</td>\n",
       "      <td>10.0</td>\n",
       "      <td>10.0</td>\n",
       "      <td>10.0</td>\n",
       "      <td>10.0</td>\n",
       "      <td>6.0</td>\n",
       "      <td>1.48</td>\n",
       "    </tr>\n",
       "    <tr>\n",
       "      <th>2</th>\n",
       "      <td>67.0</td>\n",
       "      <td>100.0</td>\n",
       "      <td>2.0</td>\n",
       "      <td>2.0</td>\n",
       "      <td>11.0</td>\n",
       "      <td>4.5</td>\n",
       "      <td>5.0</td>\n",
       "      <td>7.0</td>\n",
       "      <td>10.0</td>\n",
       "      <td>4.0</td>\n",
       "      <td>...</td>\n",
       "      <td>20.0</td>\n",
       "      <td>97.0</td>\n",
       "      <td>10.0</td>\n",
       "      <td>10.0</td>\n",
       "      <td>10.0</td>\n",
       "      <td>10.0</td>\n",
       "      <td>10.0</td>\n",
       "      <td>10.0</td>\n",
       "      <td>2.0</td>\n",
       "      <td>1.15</td>\n",
       "    </tr>\n",
       "    <tr>\n",
       "      <th>3</th>\n",
       "      <td>NaN</td>\n",
       "      <td>NaN</td>\n",
       "      <td>1.0</td>\n",
       "      <td>1.0</td>\n",
       "      <td>3.0</td>\n",
       "      <td>1.0</td>\n",
       "      <td>0.0</td>\n",
       "      <td>2.0</td>\n",
       "      <td>1.0</td>\n",
       "      <td>1.0</td>\n",
       "      <td>...</td>\n",
       "      <td>0.0</td>\n",
       "      <td>NaN</td>\n",
       "      <td>NaN</td>\n",
       "      <td>NaN</td>\n",
       "      <td>NaN</td>\n",
       "      <td>NaN</td>\n",
       "      <td>NaN</td>\n",
       "      <td>NaN</td>\n",
       "      <td>1.0</td>\n",
       "      <td>NaN</td>\n",
       "    </tr>\n",
       "    <tr>\n",
       "      <th>4</th>\n",
       "      <td>100.0</td>\n",
       "      <td>NaN</td>\n",
       "      <td>2.0</td>\n",
       "      <td>2.0</td>\n",
       "      <td>6.0</td>\n",
       "      <td>2.0</td>\n",
       "      <td>3.0</td>\n",
       "      <td>3.0</td>\n",
       "      <td>6.0</td>\n",
       "      <td>1.0</td>\n",
       "      <td>...</td>\n",
       "      <td>38.0</td>\n",
       "      <td>92.0</td>\n",
       "      <td>9.0</td>\n",
       "      <td>9.0</td>\n",
       "      <td>10.0</td>\n",
       "      <td>10.0</td>\n",
       "      <td>9.0</td>\n",
       "      <td>9.0</td>\n",
       "      <td>1.0</td>\n",
       "      <td>0.89</td>\n",
       "    </tr>\n",
       "  </tbody>\n",
       "</table>\n",
       "<p>5 rows × 25 columns</p>\n",
       "</div>"
      ],
      "text/plain": [
       "   host_response_rate  host_acceptance_rate  host_listings_count  \\\n",
       "0                96.0                 100.0                  3.0   \n",
       "1                98.0                 100.0                  6.0   \n",
       "2                67.0                 100.0                  2.0   \n",
       "3                 NaN                   NaN                  1.0   \n",
       "4               100.0                   NaN                  2.0   \n",
       "\n",
       "   host_total_listings_count  accommodates  bathrooms  bedrooms  beds  \\\n",
       "0                        3.0           4.0        1.0       1.0   1.0   \n",
       "1                        6.0           4.0        1.0       1.0   1.0   \n",
       "2                        2.0          11.0        4.5       5.0   7.0   \n",
       "3                        1.0           3.0        1.0       0.0   2.0   \n",
       "4                        2.0           6.0        2.0       3.0   3.0   \n",
       "\n",
       "   guests_included  minimum_nights  ...  number_of_reviews  \\\n",
       "0              2.0             1.0  ...              207.0   \n",
       "1              1.0             2.0  ...               43.0   \n",
       "2             10.0             4.0  ...               20.0   \n",
       "3              1.0             1.0  ...                0.0   \n",
       "4              6.0             1.0  ...               38.0   \n",
       "\n",
       "   review_scores_rating  review_scores_accuracy  review_scores_cleanliness  \\\n",
       "0                  95.0                    10.0                       10.0   \n",
       "1                  96.0                    10.0                       10.0   \n",
       "2                  97.0                    10.0                       10.0   \n",
       "3                   NaN                     NaN                        NaN   \n",
       "4                  92.0                     9.0                        9.0   \n",
       "\n",
       "   review_scores_checkin  review_scores_communication  review_scores_location  \\\n",
       "0                   10.0                         10.0                     9.0   \n",
       "1                   10.0                         10.0                    10.0   \n",
       "2                   10.0                         10.0                    10.0   \n",
       "3                    NaN                          NaN                     NaN   \n",
       "4                   10.0                         10.0                     9.0   \n",
       "\n",
       "   review_scores_value  calculated_host_listings_count  reviews_per_month  \n",
       "0                 10.0                             2.0               4.07  \n",
       "1                 10.0                             6.0               1.48  \n",
       "2                 10.0                             2.0               1.15  \n",
       "3                  NaN                             1.0                NaN  \n",
       "4                  9.0                             1.0               0.89  \n",
       "\n",
       "[5 rows x 25 columns]"
      ]
     },
     "execution_count": 464,
     "metadata": {},
     "output_type": "execute_result"
    }
   ],
   "source": [
    "df[['host_response_rate','host_acceptance_rate','host_listings_count','host_total_listings_count','accommodates','bathrooms','bedrooms','beds','guests_included','minimum_nights','maximum_nights','availability_30','availability_60','availability_90','availability_365','number_of_reviews','review_scores_rating','review_scores_accuracy','review_scores_cleanliness','review_scores_checkin','review_scores_communication','review_scores_location','review_scores_value','calculated_host_listings_count','reviews_per_month']] = sign_clear(df[['host_response_rate','host_acceptance_rate','host_listings_count','host_total_listings_count','accommodates','bathrooms','bedrooms','beds','guests_included','minimum_nights','maximum_nights','availability_30','availability_60','availability_90','availability_365','number_of_reviews','review_scores_rating','review_scores_accuracy','review_scores_cleanliness','review_scores_checkin','review_scores_communication','review_scores_location','review_scores_value','calculated_host_listings_count','reviews_per_month']], '%', 'float64')\n",
    "df[['host_response_rate','host_acceptance_rate','host_listings_count','host_total_listings_count','accommodates','bathrooms','bedrooms','beds','guests_included','minimum_nights','maximum_nights','availability_30','availability_60','availability_90','availability_365','number_of_reviews','review_scores_rating','review_scores_accuracy','review_scores_cleanliness','review_scores_checkin','review_scores_communication','review_scores_location','review_scores_value','calculated_host_listings_count','reviews_per_month']].head()"
   ]
  },
  {
   "cell_type": "markdown",
   "id": "d0063fb5",
   "metadata": {},
   "source": [
    "Checking all the columns by the proportion of missing values."
   ]
  },
  {
   "cell_type": "code",
   "execution_count": 465,
   "id": "c4066f72",
   "metadata": {},
   "outputs": [
    {
     "name": "stdout",
     "output_type": "stream",
     "text": [
      "The following columns have at least one missing value: {'host_total_listings_count', 'first_review', 'property_type', 'review_scores_accuracy', 'notes', 'space', 'host_listings_count', 'host_has_profile_pic', 'review_scores_rating', 'host_is_superhost', 'host_identity_verified', 'host_response_time', 'host_acceptance_rate', 'beds', 'xl_picture_url', 'neighborhood_overview', 'license', 'bedrooms', 'host_location', 'thumbnail_url', 'security_deposit', 'review_scores_checkin', 'host_since', 'square_feet', 'zipcode', 'medium_url', 'host_thumbnail_url', 'review_scores_cleanliness', 'transit', 'host_picture_url', 'bathrooms', 'neighbourhood', 'reviews_per_month', 'cleaning_fee', 'host_about', 'monthly_price', 'review_scores_value', 'weekly_price', 'host_name', 'host_neighbourhood', 'review_scores_location', 'last_review', 'review_scores_communication', 'summary', 'host_response_rate'}\n"
     ]
    }
   ],
   "source": [
    "# check for the column with missing data\n",
    "missing = set(df.columns[df.isnull().mean() != 0]) \n",
    "print('The following columns have at least one missing value:',missing)"
   ]
  },
  {
   "cell_type": "code",
   "execution_count": 466,
   "id": "3adc5759",
   "metadata": {},
   "outputs": [
    {
     "name": "stdout",
     "output_type": "stream",
     "text": [
      "The following columns have more than 75% missing values: {'license', 'square_feet'}\n",
      "The following columns have more than 50% missing values: {'license', 'monthly_price', 'security_deposit', 'square_feet'}\n",
      "The following columns have more than 25% missing values: {'monthly_price', 'weekly_price', 'neighborhood_overview', 'notes', 'license', 'cleaning_fee', 'security_deposit', 'square_feet'}\n"
     ]
    }
   ],
   "source": [
    "# get the columns with more than 75% / 50% / 25% missing data\n",
    "mostly_missing_75 = set(df.columns[df.isnull().mean()>0.75])\n",
    "mostly_missing_50 = set(df.columns[df.isnull().mean()>0.50])\n",
    "mostly_missing_25 = set(df.columns[df.isnull().mean()>0.25])\n",
    "print('The following columns have more than 75% missing values:',mostly_missing_75)\n",
    "print('The following columns have more than 50% missing values:',mostly_missing_50)\n",
    "print('The following columns have more than 25% missing values:',mostly_missing_25)"
   ]
  },
  {
   "cell_type": "markdown",
   "id": "f7dbd475",
   "metadata": {},
   "source": [
    "All the columns with more than 50% missing data will be removed from the dataframe."
   ]
  },
  {
   "cell_type": "code",
   "execution_count": 467,
   "id": "75490532",
   "metadata": {},
   "outputs": [],
   "source": [
    "def missing_data_cleaning(df):\n",
    "    mostly_missing_50 = (df.columns[df.isnull().mean()>0.50])\n",
    "    df = df.drop(mostly_missing_50, axis=1) \n",
    "    return df"
   ]
  },
  {
   "cell_type": "code",
   "execution_count": 468,
   "id": "42aeac54",
   "metadata": {},
   "outputs": [
    {
     "name": "stdout",
     "output_type": "stream",
     "text": [
      "Columns before the missing data cleaning:  92\n",
      "Columns after the missing data cleaning:  88\n"
     ]
    }
   ],
   "source": [
    "print('Columns before the missing data cleaning: ', df.shape[1])\n",
    "df = missing_data_cleaning(df)\n",
    "print('Columns after the missing data cleaning: ', df.shape[1])"
   ]
  },
  {
   "cell_type": "code",
   "execution_count": 469,
   "id": "e40cc79a",
   "metadata": {},
   "outputs": [
    {
     "name": "stdout",
     "output_type": "stream",
     "text": [
      "There are  0  duplicate values in the dataframe.\n"
     ]
    }
   ],
   "source": [
    "# check for duplicates in the dataframe\n",
    "print('There are ', df.duplicated().sum(), ' duplicate values in the dataframe.')"
   ]
  },
  {
   "cell_type": "code",
   "execution_count": 470,
   "id": "1589bd33",
   "metadata": {},
   "outputs": [],
   "source": [
    "# check for outliers and clean the data\n",
    "def outlier_clean(df):\n",
    "   \n",
    "    for column in df.columns:\n",
    "        if(df[column].dtype == np.float64):\n",
    "            outl_df = df[df[column] <= df[column].mean() + 3 * df[column].std()]\n",
    "    return outl_df"
   ]
  },
  {
   "cell_type": "code",
   "execution_count": 471,
   "id": "c9dc1049",
   "metadata": {},
   "outputs": [
    {
     "name": "stdout",
     "output_type": "stream",
     "text": [
      "Rows before the missing data cleaning:  3818\n",
      "Rows after the missing data cleaning:  3140\n"
     ]
    }
   ],
   "source": [
    "print('Rows before the missing data cleaning: ', df.shape[0])\n",
    "df = outlier_clean(df)\n",
    "print('Rows after the missing data cleaning: ', df.shape[0])"
   ]
  },
  {
   "cell_type": "markdown",
   "id": "e4594553",
   "metadata": {},
   "source": [
    "### 4. Data modeling\n",
    "\n",
    "* Correlation matrix\n",
    "* Linear Regression\n",
    "* Decision tree"
   ]
  },
  {
   "cell_type": "markdown",
   "id": "a616aa42",
   "metadata": {},
   "source": [
    "#### Can we predict the price established for an accommodation based on the facilities listed by the host?\n",
    "\n",
    "We want to predict the price of an accomodation taking into consideration the following possible independent variables: host_response_rate, host_acceptance_rate, accommodates, bathrooms, bedrooms, beds, guests_included, extra_people, minimum_nights, maximum_nights, availability_365, number_of_reviews, review_scores_rating, reviews_per_month."
   ]
  },
  {
   "cell_type": "code",
   "execution_count": 472,
   "id": "2947654f",
   "metadata": {},
   "outputs": [],
   "source": [
    "def corr_matrix(var_list):\n",
    "    corr_mat = sns.heatmap(var_list.corr(), annot=True, fmt=\".2f\")\n",
    "    return corr_mat"
   ]
  },
  {
   "cell_type": "code",
   "execution_count": 473,
   "id": "3bc2d9f6",
   "metadata": {},
   "outputs": [
    {
     "data": {
      "text/plain": [
       "<AxesSubplot:>"
      ]
     },
     "execution_count": 473,
     "metadata": {},
     "output_type": "execute_result"
    },
    {
     "data": {
      "image/png": "[encoded data removed]",
      "text/plain": [
       "<Figure size 432x288 with 2 Axes>"
      ]
     },
     "metadata": {
      "needs_background": "light"
     },
     "output_type": "display_data"
    }
   ],
   "source": [
    "corr_matrix(df[['price','host_response_rate', 'host_acceptance_rate', 'accommodates', 'bathrooms', 'bedrooms', 'beds', 'guests_included',  'minimum_nights', 'maximum_nights', 'availability_365', 'number_of_reviews', 'review_scores_rating', 'reviews_per_month']])"
   ]
  },
  {
   "cell_type": "markdown",
   "id": "240fa9ed",
   "metadata": {},
   "source": [
    "From the previous correlation matrix I have decided to keep only some of the data: accommodates, bathrooms, bedrooms, beds, guests_included, number_of_reviews based on the correlation factor."
   ]
  },
  {
   "cell_type": "code",
   "execution_count": 474,
   "id": "fd650472",
   "metadata": {},
   "outputs": [
    {
     "data": {
      "text/plain": [
       "<AxesSubplot:>"
      ]
     },
     "execution_count": 474,
     "metadata": {},
     "output_type": "execute_result"
    },
    {
     "data": {
      "image/png": "[encoded data removed]",
      "text/plain": [
       "<Figure size 432x288 with 2 Axes>"
      ]
     },
     "metadata": {
      "needs_background": "light"
     },
     "output_type": "display_data"
    }
   ],
   "source": [
    "corr_matrix(df[['price','accommodates', 'bathrooms', 'bedrooms', 'beds', 'guests_included', 'number_of_reviews']])"
   ]
  },
  {
   "cell_type": "markdown",
   "id": "7c127333",
   "metadata": {},
   "source": [
    "#### Conclusions\n",
    "\n",
    "* the price goes up with an increase of the property capacity, rooms (bathrooms, bedrooms) and number of beds\n",
    "* there is a positive correlation between the price of an accomodation and the number of guest included in the reservation\n",
    "* there is a negative correlation between the price and the number of reviews, so a property with a high number of reviews has a smaller price "
   ]
  },
  {
   "cell_type": "markdown",
   "id": "c7c621b3",
   "metadata": {},
   "source": [
    "#### Regression Model (considering dropping missing values)"
   ]
  },
  {
   "cell_type": "code",
   "execution_count": 544,
   "id": "1bc897c6",
   "metadata": {},
   "outputs": [],
   "source": [
    "def regression_model(X, y):\n",
    "    \n",
    "    #Split into train and test\n",
    "    X_train, X_test, y_train, y_test = train_test_split(X, y, test_size = .30, random_state=13)\n",
    "    \n",
    "    #Create the model\n",
    "    lm_model = LinearRegression(normalize=True)\n",
    "    \n",
    "    #Fitt the model\n",
    "    lm_model.fit(X_train, y_train) \n",
    "    \n",
    "    #Predict and score the model    \n",
    "    y_test_preds = lm_model.predict(X_test)\n",
    "    \n",
    "    #Evaluate the model\n",
    "    print(\"The r-squared score for your model was {} on {} values.\".format(r2_score(y_test, y_test_preds), len(y_test)))\n",
    "    print('Coefficients:', lm_model.coef_)\n",
    "    print('Intercept:', lm_model.intercept_)"
   ]
  },
  {
   "cell_type": "code",
   "execution_count": 545,
   "id": "60b7b9eb",
   "metadata": {},
   "outputs": [],
   "source": [
    "#Separated the independent variables from the dependent one (price)\n",
    "new_df = df[['price', 'accommodates', 'bathrooms', 'bedrooms', 'beds', 'guests_included', 'number_of_reviews']]\n",
    "new_df_drna = new_df.dropna(axis=0)\n",
    "\n",
    "#Split into explanatory and response variables\n",
    "X_dr_reg = new_df_drna[['accommodates', 'bathrooms', 'bedrooms', 'beds', 'guests_included', 'number_of_reviews']]\n",
    "y_dr_reg = new_df_drna['price']"
   ]
  },
  {
   "cell_type": "code",
   "execution_count": 546,
   "id": "c04c1c5e",
   "metadata": {},
   "outputs": [
    {
     "name": "stdout",
     "output_type": "stream",
     "text": [
      "The r-squared score for your model was 0.3878961356852624 on 937 values.\n",
      "Coefficients: [16.58741958 25.49094732 28.64554749 -3.52846928  4.54233122 -0.14738824]\n",
      "Intercept: 4.50224665948754\n"
     ]
    }
   ],
   "source": [
    "regression_model(X_dr_reg, y_dr_reg)"
   ]
  },
  {
   "cell_type": "markdown",
   "id": "9b7a9d84",
   "metadata": {},
   "source": [
    "#### Regression Model (considering imputing missing values)"
   ]
  },
  {
   "cell_type": "code",
   "execution_count": null,
   "id": "3aece4e5",
   "metadata": {},
   "outputs": [],
   "source": [
    "'''\n",
    "In order to increase the accuracy of the model, I decided to use the available data by replacing all missing data with the\n",
    "mean by using the fillna method. In this regard I have prepared the data (duplicates, outliers, missing data).\n",
    "For the price column I have deleted the missing values as this was the target value to be predicted.\n",
    "'''"
   ]
  },
  {
   "cell_type": "code",
   "execution_count": 547,
   "id": "1472e9f0",
   "metadata": {},
   "outputs": [
    {
     "data": {
      "text/plain": [
       "0"
      ]
     },
     "execution_count": 547,
     "metadata": {},
     "output_type": "execute_result"
    }
   ],
   "source": [
    "#Separated the independent variables from the dependent one (price)\n",
    "new_df = df[['price', 'accommodates', 'bathrooms', 'bedrooms', 'beds', 'guests_included', 'number_of_reviews']]\n",
    "new_df = new_df.dropna(subset=['price'], axis=0) \n",
    "np.sum(new_df['price'].isnull())"
   ]
  },
  {
   "cell_type": "code",
   "execution_count": 548,
   "id": "cd32f05c",
   "metadata": {},
   "outputs": [
    {
     "data": {
      "text/plain": [
       "price                0\n",
       "accommodates         0\n",
       "bathrooms            0\n",
       "bedrooms             0\n",
       "beds                 0\n",
       "guests_included      0\n",
       "number_of_reviews    0\n",
       "dtype: int64"
      ]
     },
     "execution_count": 548,
     "metadata": {},
     "output_type": "execute_result"
    }
   ],
   "source": [
    "#Fill all missing values with the mean of the column.\n",
    "fill_mean = lambda col: col.fillna(col.mean())\n",
    "\n",
    "new_df_imputed = new_df[['price', 'accommodates', 'bathrooms', 'bedrooms', 'beds', 'guests_included', 'number_of_reviews']].apply(fill_mean, axis=0)\n",
    "\n",
    "# test look\n",
    "np.sum(new_df_imputed.isnull())"
   ]
  },
  {
   "cell_type": "code",
   "execution_count": 549,
   "id": "2d189cd4",
   "metadata": {},
   "outputs": [],
   "source": [
    "#Split into explanatory and response variables\n",
    "X_fill_reg = new_df_imputed[['accommodates', 'bathrooms', 'bedrooms', 'beds', 'guests_included', 'number_of_reviews']]\n",
    "y_fill_reg = new_df_imputed['price']"
   ]
  },
  {
   "cell_type": "code",
   "execution_count": 550,
   "id": "d01e7943",
   "metadata": {},
   "outputs": [
    {
     "name": "stdout",
     "output_type": "stream",
     "text": [
      "The r-squared score for your model was 0.42107129178210556 on 942 values.\n",
      "Coefficients: [15.00772135 24.5637958  28.13408069 -2.28311234  6.02959509 -0.14859224]\n",
      "Intercept: 6.553007097669237\n"
     ]
    }
   ],
   "source": [
    "regression_model(X_fill_reg, y_fill_reg)"
   ]
  },
  {
   "cell_type": "markdown",
   "id": "5fb365f6",
   "metadata": {},
   "source": [
    "#### What factors seem to have a strong impact in being confirmed as a Superhost by Airbnb?\n",
    "\n",
    "In order to investigate the top factors of impact related to the Superhost badge, I decided to use the following data: host_has_profile_pic, host_identity_verified, property_type, has_availability, instant_bookable, cancellation_policy, require_guest_profile_picture, require_guest_phone_verification, host_response_time."
   ]
  },
  {
   "cell_type": "code",
   "execution_count": 523,
   "id": "7b8804f8",
   "metadata": {},
   "outputs": [],
   "source": [
    "def decision_tree_model(X, y):\n",
    "    X_train, X_test, y_train, y_test = train_test_split(X, y, test_size=0.3, random_state=13)\n",
    "    model = DecisionTreeClassifier()\n",
    "    model.fit(X_train, y_train)\n",
    "    y_train_pred = model.predict(X_train)\n",
    "    y_test_pred = model.predict(X_test)\n",
    "    train_accuracy = accuracy_score(y_train, y_train_pred)\n",
    "    test_accuracy = accuracy_score(y_test, y_test_pred)\n",
    "    print('The training accuracy is', train_accuracy)\n",
    "    print('The test accuracy is', test_accuracy)"
   ]
  },
  {
   "cell_type": "code",
   "execution_count": 551,
   "id": "0b180a71",
   "metadata": {},
   "outputs": [
    {
     "data": {
      "text/html": [
       "<div>\n",
       "<style scoped>\n",
       "    .dataframe tbody tr th:only-of-type {\n",
       "        vertical-align: middle;\n",
       "    }\n",
       "\n",
       "    .dataframe tbody tr th {\n",
       "        vertical-align: top;\n",
       "    }\n",
       "\n",
       "    .dataframe thead th {\n",
       "        text-align: right;\n",
       "    }\n",
       "</style>\n",
       "<table border=\"1\" class=\"dataframe\">\n",
       "  <thead>\n",
       "    <tr style=\"text-align: right;\">\n",
       "      <th></th>\n",
       "      <th>host_is_superhost</th>\n",
       "      <th>host_has_profile_pic</th>\n",
       "      <th>host_identity_verified</th>\n",
       "      <th>property_type</th>\n",
       "      <th>has_availability</th>\n",
       "      <th>instant_bookable</th>\n",
       "      <th>cancellation_policy</th>\n",
       "      <th>require_guest_profile_picture</th>\n",
       "      <th>require_guest_phone_verification</th>\n",
       "      <th>host_response_time</th>\n",
       "    </tr>\n",
       "  </thead>\n",
       "  <tbody>\n",
       "    <tr>\n",
       "      <th>0</th>\n",
       "      <td>f</td>\n",
       "      <td>t</td>\n",
       "      <td>t</td>\n",
       "      <td>Apartment</td>\n",
       "      <td>t</td>\n",
       "      <td>f</td>\n",
       "      <td>moderate</td>\n",
       "      <td>f</td>\n",
       "      <td>f</td>\n",
       "      <td>within a few hours</td>\n",
       "    </tr>\n",
       "    <tr>\n",
       "      <th>1</th>\n",
       "      <td>t</td>\n",
       "      <td>t</td>\n",
       "      <td>t</td>\n",
       "      <td>Apartment</td>\n",
       "      <td>t</td>\n",
       "      <td>f</td>\n",
       "      <td>strict</td>\n",
       "      <td>t</td>\n",
       "      <td>t</td>\n",
       "      <td>within an hour</td>\n",
       "    </tr>\n",
       "    <tr>\n",
       "      <th>2</th>\n",
       "      <td>f</td>\n",
       "      <td>t</td>\n",
       "      <td>t</td>\n",
       "      <td>House</td>\n",
       "      <td>t</td>\n",
       "      <td>f</td>\n",
       "      <td>strict</td>\n",
       "      <td>f</td>\n",
       "      <td>f</td>\n",
       "      <td>within a few hours</td>\n",
       "    </tr>\n",
       "    <tr>\n",
       "      <th>4</th>\n",
       "      <td>f</td>\n",
       "      <td>t</td>\n",
       "      <td>t</td>\n",
       "      <td>House</td>\n",
       "      <td>t</td>\n",
       "      <td>f</td>\n",
       "      <td>strict</td>\n",
       "      <td>f</td>\n",
       "      <td>f</td>\n",
       "      <td>within an hour</td>\n",
       "    </tr>\n",
       "    <tr>\n",
       "      <th>5</th>\n",
       "      <td>f</td>\n",
       "      <td>t</td>\n",
       "      <td>t</td>\n",
       "      <td>House</td>\n",
       "      <td>t</td>\n",
       "      <td>f</td>\n",
       "      <td>strict</td>\n",
       "      <td>f</td>\n",
       "      <td>f</td>\n",
       "      <td>NaN</td>\n",
       "    </tr>\n",
       "  </tbody>\n",
       "</table>\n",
       "</div>"
      ],
      "text/plain": [
       "  host_is_superhost host_has_profile_pic host_identity_verified property_type  \\\n",
       "0                 f                    t                      t     Apartment   \n",
       "1                 t                    t                      t     Apartment   \n",
       "2                 f                    t                      t         House   \n",
       "4                 f                    t                      t         House   \n",
       "5                 f                    t                      t         House   \n",
       "\n",
       "  has_availability instant_bookable cancellation_policy  \\\n",
       "0                t                f            moderate   \n",
       "1                t                f              strict   \n",
       "2                t                f              strict   \n",
       "4                t                f              strict   \n",
       "5                t                f              strict   \n",
       "\n",
       "  require_guest_profile_picture require_guest_phone_verification  \\\n",
       "0                             f                                f   \n",
       "1                             t                                t   \n",
       "2                             f                                f   \n",
       "4                             f                                f   \n",
       "5                             f                                f   \n",
       "\n",
       "   host_response_time  \n",
       "0  within a few hours  \n",
       "1      within an hour  \n",
       "2  within a few hours  \n",
       "4      within an hour  \n",
       "5                 NaN  "
      ]
     },
     "execution_count": 551,
     "metadata": {},
     "output_type": "execute_result"
    }
   ],
   "source": [
    "df_binary = df[['host_is_superhost', 'host_has_profile_pic', 'host_identity_verified', 'property_type', 'has_availability', 'instant_bookable', 'cancellation_policy', 'require_guest_profile_picture', 'require_guest_phone_verification', 'host_response_time']]\n",
    "df_binary.head()"
   ]
  },
  {
   "cell_type": "markdown",
   "id": "70dc815f",
   "metadata": {},
   "source": [
    "####  Decision Tree Model (considering dropping missing values)"
   ]
  },
  {
   "cell_type": "code",
   "execution_count": null,
   "id": "cfbb4610",
   "metadata": {},
   "outputs": [],
   "source": [
    "'''\n",
    "For the first DecisionTree model I decided to:\n",
    "- drop the missing values for the independent variable as we have to predict it\n",
    "- drop the missing values of the independent variables using with dropna \n",
    "'''"
   ]
  },
  {
   "cell_type": "code",
   "execution_count": 552,
   "id": "da24b5fe",
   "metadata": {},
   "outputs": [
    {
     "data": {
      "text/plain": [
       "host_is_superhost                   0\n",
       "host_has_profile_pic                0\n",
       "host_identity_verified              0\n",
       "property_type                       0\n",
       "has_availability                    0\n",
       "instant_bookable                    0\n",
       "cancellation_policy                 0\n",
       "require_guest_profile_picture       0\n",
       "require_guest_phone_verification    0\n",
       "host_response_time                  0\n",
       "dtype: int64"
      ]
     },
     "execution_count": 552,
     "metadata": {},
     "output_type": "execute_result"
    }
   ],
   "source": [
    "df_binary_drna = df_binary.dropna(axis=0)\n",
    "np.sum(df_binary_drna.isnull())"
   ]
  },
  {
   "cell_type": "code",
   "execution_count": 553,
   "id": "8d960cfb",
   "metadata": {},
   "outputs": [
    {
     "data": {
      "text/html": [
       "<div>\n",
       "<style scoped>\n",
       "    .dataframe tbody tr th:only-of-type {\n",
       "        vertical-align: middle;\n",
       "    }\n",
       "\n",
       "    .dataframe tbody tr th {\n",
       "        vertical-align: top;\n",
       "    }\n",
       "\n",
       "    .dataframe thead th {\n",
       "        text-align: right;\n",
       "    }\n",
       "</style>\n",
       "<table border=\"1\" class=\"dataframe\">\n",
       "  <thead>\n",
       "    <tr style=\"text-align: right;\">\n",
       "      <th></th>\n",
       "      <th>host_is_superhost_f</th>\n",
       "      <th>host_is_superhost_t</th>\n",
       "      <th>host_has_profile_pic_f</th>\n",
       "      <th>host_has_profile_pic_t</th>\n",
       "      <th>host_identity_verified_f</th>\n",
       "      <th>host_identity_verified_t</th>\n",
       "      <th>property_type_Apartment</th>\n",
       "      <th>property_type_Bed &amp; Breakfast</th>\n",
       "      <th>property_type_Boat</th>\n",
       "      <th>property_type_Bungalow</th>\n",
       "      <th>...</th>\n",
       "      <th>cancellation_policy_moderate</th>\n",
       "      <th>cancellation_policy_strict</th>\n",
       "      <th>require_guest_profile_picture_f</th>\n",
       "      <th>require_guest_profile_picture_t</th>\n",
       "      <th>require_guest_phone_verification_f</th>\n",
       "      <th>require_guest_phone_verification_t</th>\n",
       "      <th>host_response_time_a few days or more</th>\n",
       "      <th>host_response_time_within a day</th>\n",
       "      <th>host_response_time_within a few hours</th>\n",
       "      <th>host_response_time_within an hour</th>\n",
       "    </tr>\n",
       "  </thead>\n",
       "  <tbody>\n",
       "    <tr>\n",
       "      <th>0</th>\n",
       "      <td>1</td>\n",
       "      <td>0</td>\n",
       "      <td>0</td>\n",
       "      <td>1</td>\n",
       "      <td>0</td>\n",
       "      <td>1</td>\n",
       "      <td>1</td>\n",
       "      <td>0</td>\n",
       "      <td>0</td>\n",
       "      <td>0</td>\n",
       "      <td>...</td>\n",
       "      <td>1</td>\n",
       "      <td>0</td>\n",
       "      <td>1</td>\n",
       "      <td>0</td>\n",
       "      <td>1</td>\n",
       "      <td>0</td>\n",
       "      <td>0</td>\n",
       "      <td>0</td>\n",
       "      <td>1</td>\n",
       "      <td>0</td>\n",
       "    </tr>\n",
       "    <tr>\n",
       "      <th>1</th>\n",
       "      <td>0</td>\n",
       "      <td>1</td>\n",
       "      <td>0</td>\n",
       "      <td>1</td>\n",
       "      <td>0</td>\n",
       "      <td>1</td>\n",
       "      <td>1</td>\n",
       "      <td>0</td>\n",
       "      <td>0</td>\n",
       "      <td>0</td>\n",
       "      <td>...</td>\n",
       "      <td>0</td>\n",
       "      <td>1</td>\n",
       "      <td>0</td>\n",
       "      <td>1</td>\n",
       "      <td>0</td>\n",
       "      <td>1</td>\n",
       "      <td>0</td>\n",
       "      <td>0</td>\n",
       "      <td>0</td>\n",
       "      <td>1</td>\n",
       "    </tr>\n",
       "    <tr>\n",
       "      <th>2</th>\n",
       "      <td>1</td>\n",
       "      <td>0</td>\n",
       "      <td>0</td>\n",
       "      <td>1</td>\n",
       "      <td>0</td>\n",
       "      <td>1</td>\n",
       "      <td>0</td>\n",
       "      <td>0</td>\n",
       "      <td>0</td>\n",
       "      <td>0</td>\n",
       "      <td>...</td>\n",
       "      <td>0</td>\n",
       "      <td>1</td>\n",
       "      <td>1</td>\n",
       "      <td>0</td>\n",
       "      <td>1</td>\n",
       "      <td>0</td>\n",
       "      <td>0</td>\n",
       "      <td>0</td>\n",
       "      <td>1</td>\n",
       "      <td>0</td>\n",
       "    </tr>\n",
       "    <tr>\n",
       "      <th>4</th>\n",
       "      <td>1</td>\n",
       "      <td>0</td>\n",
       "      <td>0</td>\n",
       "      <td>1</td>\n",
       "      <td>0</td>\n",
       "      <td>1</td>\n",
       "      <td>0</td>\n",
       "      <td>0</td>\n",
       "      <td>0</td>\n",
       "      <td>0</td>\n",
       "      <td>...</td>\n",
       "      <td>0</td>\n",
       "      <td>1</td>\n",
       "      <td>1</td>\n",
       "      <td>0</td>\n",
       "      <td>1</td>\n",
       "      <td>0</td>\n",
       "      <td>0</td>\n",
       "      <td>0</td>\n",
       "      <td>0</td>\n",
       "      <td>1</td>\n",
       "    </tr>\n",
       "    <tr>\n",
       "      <th>6</th>\n",
       "      <td>0</td>\n",
       "      <td>1</td>\n",
       "      <td>0</td>\n",
       "      <td>1</td>\n",
       "      <td>0</td>\n",
       "      <td>1</td>\n",
       "      <td>0</td>\n",
       "      <td>0</td>\n",
       "      <td>0</td>\n",
       "      <td>0</td>\n",
       "      <td>...</td>\n",
       "      <td>1</td>\n",
       "      <td>0</td>\n",
       "      <td>1</td>\n",
       "      <td>0</td>\n",
       "      <td>1</td>\n",
       "      <td>0</td>\n",
       "      <td>0</td>\n",
       "      <td>0</td>\n",
       "      <td>0</td>\n",
       "      <td>1</td>\n",
       "    </tr>\n",
       "  </tbody>\n",
       "</table>\n",
       "<p>5 rows × 36 columns</p>\n",
       "</div>"
      ],
      "text/plain": [
       "   host_is_superhost_f  host_is_superhost_t  host_has_profile_pic_f  \\\n",
       "0                    1                    0                       0   \n",
       "1                    0                    1                       0   \n",
       "2                    1                    0                       0   \n",
       "4                    1                    0                       0   \n",
       "6                    0                    1                       0   \n",
       "\n",
       "   host_has_profile_pic_t  host_identity_verified_f  host_identity_verified_t  \\\n",
       "0                       1                         0                         1   \n",
       "1                       1                         0                         1   \n",
       "2                       1                         0                         1   \n",
       "4                       1                         0                         1   \n",
       "6                       1                         0                         1   \n",
       "\n",
       "   property_type_Apartment  property_type_Bed & Breakfast  property_type_Boat  \\\n",
       "0                        1                              0                   0   \n",
       "1                        1                              0                   0   \n",
       "2                        0                              0                   0   \n",
       "4                        0                              0                   0   \n",
       "6                        0                              0                   0   \n",
       "\n",
       "   property_type_Bungalow  ...  cancellation_policy_moderate  \\\n",
       "0                       0  ...                             1   \n",
       "1                       0  ...                             0   \n",
       "2                       0  ...                             0   \n",
       "4                       0  ...                             0   \n",
       "6                       0  ...                             1   \n",
       "\n",
       "   cancellation_policy_strict  require_guest_profile_picture_f  \\\n",
       "0                           0                                1   \n",
       "1                           1                                0   \n",
       "2                           1                                1   \n",
       "4                           1                                1   \n",
       "6                           0                                1   \n",
       "\n",
       "   require_guest_profile_picture_t  require_guest_phone_verification_f  \\\n",
       "0                                0                                   1   \n",
       "1                                1                                   0   \n",
       "2                                0                                   1   \n",
       "4                                0                                   1   \n",
       "6                                0                                   1   \n",
       "\n",
       "   require_guest_phone_verification_t  host_response_time_a few days or more  \\\n",
       "0                                   0                                      0   \n",
       "1                                   1                                      0   \n",
       "2                                   0                                      0   \n",
       "4                                   0                                      0   \n",
       "6                                   0                                      0   \n",
       "\n",
       "   host_response_time_within a day  host_response_time_within a few hours  \\\n",
       "0                                0                                      1   \n",
       "1                                0                                      0   \n",
       "2                                0                                      1   \n",
       "4                                0                                      0   \n",
       "6                                0                                      0   \n",
       "\n",
       "   host_response_time_within an hour  \n",
       "0                                  0  \n",
       "1                                  1  \n",
       "2                                  0  \n",
       "4                                  1  \n",
       "6                                  1  \n",
       "\n",
       "[5 rows x 36 columns]"
      ]
     },
     "execution_count": 553,
     "metadata": {},
     "output_type": "execute_result"
    }
   ],
   "source": [
    "binary_data_drna = pd.get_dummies(df_binary_drna)\n",
    "binary_data_drna.head()"
   ]
  },
  {
   "cell_type": "code",
   "execution_count": 554,
   "id": "749e56ba",
   "metadata": {},
   "outputs": [],
   "source": [
    "X_dr_dt = binary_data_drna[['host_has_profile_pic_t', 'host_identity_verified_t','property_type_Apartment', 'has_availability_t', 'instant_bookable_t', 'cancellation_policy_strict', 'require_guest_profile_picture_t', 'require_guest_phone_verification_t', 'host_response_time_within an hour']]\n",
    "y_dr_dt = binary_data_drna['host_is_superhost_t']"
   ]
  },
  {
   "cell_type": "code",
   "execution_count": 555,
   "id": "b8f694eb",
   "metadata": {},
   "outputs": [
    {
     "name": "stdout",
     "output_type": "stream",
     "text": [
      "The training accuracy is 0.7755825734549139\n",
      "The test accuracy is 0.7730496453900709\n"
     ]
    }
   ],
   "source": [
    "decision_tree_model(X_dr_dt , y_dr_dt)"
   ]
  },
  {
   "cell_type": "markdown",
   "id": "448659ec",
   "metadata": {},
   "source": [
    "#### Decision Tree Model (considering imputing missing values)"
   ]
  },
  {
   "cell_type": "code",
   "execution_count": null,
   "id": "22beb1fd",
   "metadata": {},
   "outputs": [],
   "source": [
    "'''\n",
    "For the second DecisionTree model I decided to:\n",
    "- drop the missing values for the independent variable as we have to predict it\n",
    "- replace the missing values of the independent variables using the fillna method (replacing the any missing value with the mode).\n",
    "'''"
   ]
  },
  {
   "cell_type": "code",
   "execution_count": 556,
   "id": "482010a6",
   "metadata": {},
   "outputs": [
    {
     "data": {
      "text/plain": [
       "0"
      ]
     },
     "execution_count": 556,
     "metadata": {},
     "output_type": "execute_result"
    }
   ],
   "source": [
    "df_binary_fillna = df_binary.dropna(subset = ['host_is_superhost'], axis=0) \n",
    "np.sum(df_binary_fillna['host_is_superhost'].isnull())"
   ]
  },
  {
   "cell_type": "code",
   "execution_count": 557,
   "id": "b34976a9",
   "metadata": {},
   "outputs": [
    {
     "data": {
      "text/plain": [
       "host_is_superhost                   0\n",
       "host_has_profile_pic                0\n",
       "host_identity_verified              0\n",
       "property_type                       0\n",
       "has_availability                    0\n",
       "instant_bookable                    0\n",
       "cancellation_policy                 0\n",
       "require_guest_profile_picture       0\n",
       "require_guest_phone_verification    0\n",
       "host_response_time                  0\n",
       "dtype: int64"
      ]
     },
     "execution_count": 557,
     "metadata": {},
     "output_type": "execute_result"
    }
   ],
   "source": [
    "fill_mode = lambda col: col.fillna(col.mode()[0])\n",
    "\n",
    "df_binary_fillna_mode = df_binary_fillna[['host_is_superhost', 'host_has_profile_pic', 'host_identity_verified', 'property_type', 'has_availability', 'instant_bookable', 'cancellation_policy', 'require_guest_profile_picture', 'require_guest_phone_verification', 'host_response_time']].apply(fill_mode, axis=0)\n",
    "\n",
    "# test look\n",
    "np.sum(df_binary_fillna_mode.isnull())"
   ]
  },
  {
   "cell_type": "code",
   "execution_count": 558,
   "id": "922b1566",
   "metadata": {},
   "outputs": [
    {
     "data": {
      "text/html": [
       "<div>\n",
       "<style scoped>\n",
       "    .dataframe tbody tr th:only-of-type {\n",
       "        vertical-align: middle;\n",
       "    }\n",
       "\n",
       "    .dataframe tbody tr th {\n",
       "        vertical-align: top;\n",
       "    }\n",
       "\n",
       "    .dataframe thead th {\n",
       "        text-align: right;\n",
       "    }\n",
       "</style>\n",
       "<table border=\"1\" class=\"dataframe\">\n",
       "  <thead>\n",
       "    <tr style=\"text-align: right;\">\n",
       "      <th></th>\n",
       "      <th>host_is_superhost_f</th>\n",
       "      <th>host_is_superhost_t</th>\n",
       "      <th>host_has_profile_pic_f</th>\n",
       "      <th>host_has_profile_pic_t</th>\n",
       "      <th>host_identity_verified_f</th>\n",
       "      <th>host_identity_verified_t</th>\n",
       "      <th>property_type_Apartment</th>\n",
       "      <th>property_type_Bed &amp; Breakfast</th>\n",
       "      <th>property_type_Boat</th>\n",
       "      <th>property_type_Bungalow</th>\n",
       "      <th>...</th>\n",
       "      <th>cancellation_policy_moderate</th>\n",
       "      <th>cancellation_policy_strict</th>\n",
       "      <th>require_guest_profile_picture_f</th>\n",
       "      <th>require_guest_profile_picture_t</th>\n",
       "      <th>require_guest_phone_verification_f</th>\n",
       "      <th>require_guest_phone_verification_t</th>\n",
       "      <th>host_response_time_a few days or more</th>\n",
       "      <th>host_response_time_within a day</th>\n",
       "      <th>host_response_time_within a few hours</th>\n",
       "      <th>host_response_time_within an hour</th>\n",
       "    </tr>\n",
       "  </thead>\n",
       "  <tbody>\n",
       "    <tr>\n",
       "      <th>0</th>\n",
       "      <td>1</td>\n",
       "      <td>0</td>\n",
       "      <td>0</td>\n",
       "      <td>1</td>\n",
       "      <td>0</td>\n",
       "      <td>1</td>\n",
       "      <td>1</td>\n",
       "      <td>0</td>\n",
       "      <td>0</td>\n",
       "      <td>0</td>\n",
       "      <td>...</td>\n",
       "      <td>1</td>\n",
       "      <td>0</td>\n",
       "      <td>1</td>\n",
       "      <td>0</td>\n",
       "      <td>1</td>\n",
       "      <td>0</td>\n",
       "      <td>0</td>\n",
       "      <td>0</td>\n",
       "      <td>1</td>\n",
       "      <td>0</td>\n",
       "    </tr>\n",
       "    <tr>\n",
       "      <th>1</th>\n",
       "      <td>0</td>\n",
       "      <td>1</td>\n",
       "      <td>0</td>\n",
       "      <td>1</td>\n",
       "      <td>0</td>\n",
       "      <td>1</td>\n",
       "      <td>1</td>\n",
       "      <td>0</td>\n",
       "      <td>0</td>\n",
       "      <td>0</td>\n",
       "      <td>...</td>\n",
       "      <td>0</td>\n",
       "      <td>1</td>\n",
       "      <td>0</td>\n",
       "      <td>1</td>\n",
       "      <td>0</td>\n",
       "      <td>1</td>\n",
       "      <td>0</td>\n",
       "      <td>0</td>\n",
       "      <td>0</td>\n",
       "      <td>1</td>\n",
       "    </tr>\n",
       "    <tr>\n",
       "      <th>2</th>\n",
       "      <td>1</td>\n",
       "      <td>0</td>\n",
       "      <td>0</td>\n",
       "      <td>1</td>\n",
       "      <td>0</td>\n",
       "      <td>1</td>\n",
       "      <td>0</td>\n",
       "      <td>0</td>\n",
       "      <td>0</td>\n",
       "      <td>0</td>\n",
       "      <td>...</td>\n",
       "      <td>0</td>\n",
       "      <td>1</td>\n",
       "      <td>1</td>\n",
       "      <td>0</td>\n",
       "      <td>1</td>\n",
       "      <td>0</td>\n",
       "      <td>0</td>\n",
       "      <td>0</td>\n",
       "      <td>1</td>\n",
       "      <td>0</td>\n",
       "    </tr>\n",
       "    <tr>\n",
       "      <th>4</th>\n",
       "      <td>1</td>\n",
       "      <td>0</td>\n",
       "      <td>0</td>\n",
       "      <td>1</td>\n",
       "      <td>0</td>\n",
       "      <td>1</td>\n",
       "      <td>0</td>\n",
       "      <td>0</td>\n",
       "      <td>0</td>\n",
       "      <td>0</td>\n",
       "      <td>...</td>\n",
       "      <td>0</td>\n",
       "      <td>1</td>\n",
       "      <td>1</td>\n",
       "      <td>0</td>\n",
       "      <td>1</td>\n",
       "      <td>0</td>\n",
       "      <td>0</td>\n",
       "      <td>0</td>\n",
       "      <td>0</td>\n",
       "      <td>1</td>\n",
       "    </tr>\n",
       "    <tr>\n",
       "      <th>5</th>\n",
       "      <td>1</td>\n",
       "      <td>0</td>\n",
       "      <td>0</td>\n",
       "      <td>1</td>\n",
       "      <td>0</td>\n",
       "      <td>1</td>\n",
       "      <td>0</td>\n",
       "      <td>0</td>\n",
       "      <td>0</td>\n",
       "      <td>0</td>\n",
       "      <td>...</td>\n",
       "      <td>0</td>\n",
       "      <td>1</td>\n",
       "      <td>1</td>\n",
       "      <td>0</td>\n",
       "      <td>1</td>\n",
       "      <td>0</td>\n",
       "      <td>0</td>\n",
       "      <td>0</td>\n",
       "      <td>0</td>\n",
       "      <td>1</td>\n",
       "    </tr>\n",
       "  </tbody>\n",
       "</table>\n",
       "<p>5 rows × 36 columns</p>\n",
       "</div>"
      ],
      "text/plain": [
       "   host_is_superhost_f  host_is_superhost_t  host_has_profile_pic_f  \\\n",
       "0                    1                    0                       0   \n",
       "1                    0                    1                       0   \n",
       "2                    1                    0                       0   \n",
       "4                    1                    0                       0   \n",
       "5                    1                    0                       0   \n",
       "\n",
       "   host_has_profile_pic_t  host_identity_verified_f  host_identity_verified_t  \\\n",
       "0                       1                         0                         1   \n",
       "1                       1                         0                         1   \n",
       "2                       1                         0                         1   \n",
       "4                       1                         0                         1   \n",
       "5                       1                         0                         1   \n",
       "\n",
       "   property_type_Apartment  property_type_Bed & Breakfast  property_type_Boat  \\\n",
       "0                        1                              0                   0   \n",
       "1                        1                              0                   0   \n",
       "2                        0                              0                   0   \n",
       "4                        0                              0                   0   \n",
       "5                        0                              0                   0   \n",
       "\n",
       "   property_type_Bungalow  ...  cancellation_policy_moderate  \\\n",
       "0                       0  ...                             1   \n",
       "1                       0  ...                             0   \n",
       "2                       0  ...                             0   \n",
       "4                       0  ...                             0   \n",
       "5                       0  ...                             0   \n",
       "\n",
       "   cancellation_policy_strict  require_guest_profile_picture_f  \\\n",
       "0                           0                                1   \n",
       "1                           1                                0   \n",
       "2                           1                                1   \n",
       "4                           1                                1   \n",
       "5                           1                                1   \n",
       "\n",
       "   require_guest_profile_picture_t  require_guest_phone_verification_f  \\\n",
       "0                                0                                   1   \n",
       "1                                1                                   0   \n",
       "2                                0                                   1   \n",
       "4                                0                                   1   \n",
       "5                                0                                   1   \n",
       "\n",
       "   require_guest_phone_verification_t  host_response_time_a few days or more  \\\n",
       "0                                   0                                      0   \n",
       "1                                   1                                      0   \n",
       "2                                   0                                      0   \n",
       "4                                   0                                      0   \n",
       "5                                   0                                      0   \n",
       "\n",
       "   host_response_time_within a day  host_response_time_within a few hours  \\\n",
       "0                                0                                      1   \n",
       "1                                0                                      0   \n",
       "2                                0                                      1   \n",
       "4                                0                                      0   \n",
       "5                                0                                      0   \n",
       "\n",
       "   host_response_time_within an hour  \n",
       "0                                  0  \n",
       "1                                  1  \n",
       "2                                  0  \n",
       "4                                  1  \n",
       "5                                  1  \n",
       "\n",
       "[5 rows x 36 columns]"
      ]
     },
     "execution_count": 558,
     "metadata": {},
     "output_type": "execute_result"
    }
   ],
   "source": [
    "binary_data_fillna = pd.get_dummies(df_binary_fillna_mode)\n",
    "binary_data_fillna.head()"
   ]
  },
  {
   "cell_type": "code",
   "execution_count": 559,
   "id": "72e13e72",
   "metadata": {},
   "outputs": [],
   "source": [
    "X_fill_dt = binary_data_fillna[['host_has_profile_pic_t', 'host_identity_verified_t','property_type_Apartment', 'has_availability_t', 'instant_bookable_t', 'cancellation_policy_strict', 'require_guest_profile_picture_t', 'require_guest_phone_verification_t', 'host_response_time_within an hour']]\n",
    "y_fill_dt = binary_data_fillna['host_is_superhost_t']"
   ]
  },
  {
   "cell_type": "code",
   "execution_count": 560,
   "id": "5dbb8fa0",
   "metadata": {},
   "outputs": [
    {
     "name": "stdout",
     "output_type": "stream",
     "text": [
      "The training accuracy is 0.7875341219290264\n",
      "The test accuracy is 0.7866242038216561\n"
     ]
    }
   ],
   "source": [
    "decision_tree_model(X_fill_dt, y_fill_dt)"
   ]
  },
  {
   "cell_type": "markdown",
   "id": "8b14bb2f",
   "metadata": {},
   "source": [
    "### 5. Evaluate the results"
   ]
  },
  {
   "cell_type": "markdown",
   "id": "787697d7",
   "metadata": {},
   "source": [
    "Regression model 1"
   ]
  },
  {
   "cell_type": "code",
   "execution_count": 561,
   "id": "efe89044",
   "metadata": {},
   "outputs": [
    {
     "name": "stdout",
     "output_type": "stream",
     "text": [
      "The r-squared score for your model was 0.3878961356852624 on 937 values.\n",
      "Coefficients: [16.58741958 25.49094732 28.64554749 -3.52846928  4.54233122 -0.14738824]\n",
      "Intercept: 4.50224665948754\n"
     ]
    }
   ],
   "source": [
    "regression_model(X_dr_reg, y_dr_reg)"
   ]
  },
  {
   "cell_type": "markdown",
   "id": "3dd2b991",
   "metadata": {},
   "source": [
    "Regression model 2"
   ]
  },
  {
   "cell_type": "code",
   "execution_count": 562,
   "id": "fa0100a0",
   "metadata": {},
   "outputs": [
    {
     "name": "stdout",
     "output_type": "stream",
     "text": [
      "The r-squared score for your model was 0.42107129178210556 on 942 values.\n",
      "Coefficients: [15.00772135 24.5637958  28.13408069 -2.28311234  6.02959509 -0.14859224]\n",
      "Intercept: 6.553007097669237\n"
     ]
    }
   ],
   "source": [
    "regression_model(X_fill_reg, y_fill_reg)"
   ]
  },
  {
   "cell_type": "markdown",
   "id": "04bcc350",
   "metadata": {},
   "source": [
    "#### Conclusion \n",
    "\n",
    "After comparing the results of the two regression models we can conclude that:\n",
    "- the first model (all the missing values were droped) offers a R-quare score of only 38.7% compared with 42.1% of the second model (we have used the imputation method - replacing missing values with the mean) meaning that the last model explains better the price of an accomodation\n",
    "- although the R-score for the second model is higher, these models are still to be improved in a future analysis\n",
    "- the difference between those 2 values of the intercept is quite large, knowing that if all the independent variables would be equal for all accomodations the final price will be 4.5 for each of them in the first model instead of 6.55 resulted from the second model\n",
    "- as for the coefficients, although there is a slight difference, both models state that an increase of the price is a natural result of an increase in the number of guests, rooms (bathrooms, bedrooms) and facilities (beds), but in the case of the Seattle offer the increase in the number of reviews generallu means a a decrease of the price"
   ]
  },
  {
   "cell_type": "markdown",
   "id": "3f986b7f",
   "metadata": {},
   "source": [
    "Decision tree model 1"
   ]
  },
  {
   "cell_type": "code",
   "execution_count": 563,
   "id": "2c74b3b5",
   "metadata": {},
   "outputs": [
    {
     "name": "stdout",
     "output_type": "stream",
     "text": [
      "The training accuracy is 0.7755825734549139\n",
      "The test accuracy is 0.7730496453900709\n"
     ]
    }
   ],
   "source": [
    "decision_tree_model(X_dr_dt , y_dr_dt)"
   ]
  },
  {
   "cell_type": "markdown",
   "id": "a2889286",
   "metadata": {},
   "source": [
    "Decision tree model 2"
   ]
  },
  {
   "cell_type": "code",
   "execution_count": 565,
   "id": "64b78ea6",
   "metadata": {},
   "outputs": [
    {
     "name": "stdout",
     "output_type": "stream",
     "text": [
      "The training accuracy is 0.7875341219290264\n",
      "The test accuracy is 0.7866242038216561\n"
     ]
    }
   ],
   "source": [
    "decision_tree_model(X_fill_dt, y_fill_dt)"
   ]
  },
  {
   "cell_type": "markdown",
   "id": "baf90b34",
   "metadata": {},
   "source": [
    "#### Conclusion \n",
    "\n",
    "After comparing the results of the two decision tree models, we can state that:\n",
    "- for the first model the accuracy trainig set is 77.55% slightly higher than 77.3% for the test set -> the model has not improved\n",
    "- for the second model the accuracy trainig set is 78.75% slightly higher than 78.66% for the test set -> the model has not improved\n",
    "\n",
    "As the accuracy of the 2 models is not that different, a optim solution would be to discuss the results with the business team and select the model that best fits the data and the purpose of the analysis. "
   ]
  },
  {
   "cell_type": "code",
   "execution_count": null,
   "id": "1d200223",
   "metadata": {},
   "outputs": [],
   "source": []
  }
 ],
 "metadata": {
  "kernelspec": {
   "display_name": "Python 3 (ipykernel)",
   "language": "python",
   "name": "python3"
  },
  "language_info": {
   "codemirror_mode": {
    "name": "ipython",
    "version": 3
   },
   "file_extension": ".py",
   "mimetype": "text/x-python",
   "name": "python",
   "nbconvert_exporter": "python",
   "pygments_lexer": "ipython3",
   "version": "3.9.7"
  }
 },
 "nbformat": 4,
 "nbformat_minor": 5
}
